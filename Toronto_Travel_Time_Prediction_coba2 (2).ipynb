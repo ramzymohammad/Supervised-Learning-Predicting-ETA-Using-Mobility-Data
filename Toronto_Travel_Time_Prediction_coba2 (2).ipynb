{
  "nbformat": 4,
  "nbformat_minor": 0,
  "metadata": {
    "accelerator": "GPU",
    "colab": {
      "name": "Toronto_Travel_Time_Prediction_coba2.ipynb",
      "provenance": [],
      "collapsed_sections": []
    },
    "kernelspec": {
      "display_name": "Python 3",
      "name": "python3"
    },
    "language_info": {
      "name": "python"
    }
  },
  "cells": [
    {
      "cell_type": "markdown",
      "metadata": {
        "id": "tz54Bo-mcWyE"
      },
      "source": [
        ""
      ]
    },
    {
      "cell_type": "markdown",
      "metadata": {
        "id": "IWaZ65IdcaGv"
      },
      "source": [
        "# Data Survivor"
      ]
    },
    {
      "cell_type": "markdown",
      "metadata": {
        "id": "g7Ex01pRceXT"
      },
      "source": [
        "Members:\n",
        "1. Alexander Patrick Surjono\n",
        "2. Ramzy Mohammad\n",
        "3. Retno Dewi Yulianti\n",
        "4. Stella Linda Cyrilla\n",
        "5. Wahyu Tri Utomo "
      ]
    },
    {
      "cell_type": "markdown",
      "metadata": {
        "id": "5a91I7JxegK7"
      },
      "source": [
        "# Scenario\n",
        "Expected Time of Arrival is the time that is expected of a transport system to arrive at its destination. This term can be used at various scenarios. The term has the same meaning as Estimated Time of Arrival.\n",
        "\n",
        "During a trip/journey, it is used to convey to the passengers how much time is left before the transport gets to a certain point. In the case of goods delivery, it is used to inform the receiver about the time their good is expected to arrive at their named destination.\n",
        "\n",
        "\n",
        "In this project, our role is as a data scientist in a company engaged in the transportation sector. We are asked by a stakeholder in our company to find the best model to use to predict ETA.\n",
        "\n"
      ]
    },
    {
      "cell_type": "markdown",
      "metadata": {
        "id": "MOmt7oj9f0UE"
      },
      "source": [
        "# Dataset\n",
        "\n",
        "We use dataset from Website Movement Uber, you can get the data from [here](https://movement.uber.com/explore/toronto/travel-times/query?lat.=43.653226&lng.=-79.4185465&z.=12&lang=en-US&si=113&ti=&ag=neighbourhoods&dt[tpb]=ALL_DAY&dt[wd;]=1,2,3,4,5,6,7&dt[dr][sd]=2020-03-01&dt[dr][ed]=2020-03-31&cd=&sa;=&sdn=)."
      ]
    },
    {
      "cell_type": "markdown",
      "metadata": {
        "id": "s9pazrK7glhG"
      },
      "source": [
        "# 1. Import and install Package"
      ]
    },
    {
      "cell_type": "code",
      "metadata": {
        "id": "BdjXpvkxKjjS"
      },
      "source": [
        ""
      ],
      "execution_count": null,
      "outputs": []
    },
    {
      "cell_type": "code",
      "metadata": {
        "colab": {
          "base_uri": "https://localhost:8080/"
        },
        "id": "FvgajlIunatk",
        "outputId": "9c5e5e8a-d1b3-49f9-c478-aee79fca3187"
      },
      "source": [
        "!pip install geopandas"
      ],
      "execution_count": 7,
      "outputs": [
        {
          "output_type": "stream",
          "text": [
            "Collecting geopandas\n",
            "  Downloading geopandas-0.9.0-py2.py3-none-any.whl (994 kB)\n",
            "\u001b[K     |████████████████████████████████| 994 kB 8.0 MB/s \n",
            "\u001b[?25hCollecting pyproj>=2.2.0\n",
            "  Downloading pyproj-3.1.0-cp37-cp37m-manylinux2010_x86_64.whl (6.6 MB)\n",
            "\u001b[K     |████████████████████████████████| 6.6 MB 49.4 MB/s \n",
            "\u001b[?25hRequirement already satisfied: pandas>=0.24.0 in /usr/local/lib/python3.7/dist-packages (from geopandas) (1.1.5)\n",
            "Requirement already satisfied: shapely>=1.6 in /usr/local/lib/python3.7/dist-packages (from geopandas) (1.7.1)\n",
            "Collecting fiona>=1.8\n",
            "  Downloading Fiona-1.8.20-cp37-cp37m-manylinux1_x86_64.whl (15.4 MB)\n",
            "\u001b[K     |████████████████████████████████| 15.4 MB 36 kB/s \n",
            "\u001b[?25hRequirement already satisfied: attrs>=17 in /usr/local/lib/python3.7/dist-packages (from fiona>=1.8->geopandas) (21.2.0)\n",
            "Requirement already satisfied: setuptools in /usr/local/lib/python3.7/dist-packages (from fiona>=1.8->geopandas) (57.2.0)\n",
            "Requirement already satisfied: six>=1.7 in /usr/local/lib/python3.7/dist-packages (from fiona>=1.8->geopandas) (1.15.0)\n",
            "Requirement already satisfied: certifi in /usr/local/lib/python3.7/dist-packages (from fiona>=1.8->geopandas) (2021.5.30)\n",
            "Requirement already satisfied: click>=4.0 in /usr/local/lib/python3.7/dist-packages (from fiona>=1.8->geopandas) (7.1.2)\n",
            "Collecting cligj>=0.5\n",
            "  Downloading cligj-0.7.2-py3-none-any.whl (7.1 kB)\n",
            "Collecting munch\n",
            "  Downloading munch-2.5.0-py2.py3-none-any.whl (10 kB)\n",
            "Collecting click-plugins>=1.0\n",
            "  Downloading click_plugins-1.1.1-py2.py3-none-any.whl (7.5 kB)\n",
            "Requirement already satisfied: pytz>=2017.2 in /usr/local/lib/python3.7/dist-packages (from pandas>=0.24.0->geopandas) (2018.9)\n",
            "Requirement already satisfied: python-dateutil>=2.7.3 in /usr/local/lib/python3.7/dist-packages (from pandas>=0.24.0->geopandas) (2.8.1)\n",
            "Requirement already satisfied: numpy>=1.15.4 in /usr/local/lib/python3.7/dist-packages (from pandas>=0.24.0->geopandas) (1.19.5)\n",
            "Installing collected packages: munch, cligj, click-plugins, pyproj, fiona, geopandas\n",
            "Successfully installed click-plugins-1.1.1 cligj-0.7.2 fiona-1.8.20 geopandas-0.9.0 munch-2.5.0 pyproj-3.1.0\n"
          ],
          "name": "stdout"
        }
      ]
    },
    {
      "cell_type": "code",
      "metadata": {
        "id": "kZROc7aKnjEu"
      },
      "source": [
        "import pandas as pd\n",
        "import geopandas as gpd\n",
        "import numpy as np\n",
        "import requests\n",
        "import shapely\n",
        "import matplotlib.pyplot as plot\n",
        "%matplotlib inline"
      ],
      "execution_count": 8,
      "outputs": []
    },
    {
      "cell_type": "code",
      "metadata": {
        "colab": {
          "base_uri": "https://localhost:8080/"
        },
        "id": "7oq4ulZFaX6S",
        "outputId": "c4f530c8-d3fd-4c5f-8e2c-9be79e8ffac0"
      },
      "source": [
        "from google.colab import drive\n",
        "drive.mount('/content/drive')"
      ],
      "execution_count": 9,
      "outputs": [
        {
          "output_type": "stream",
          "text": [
            "Drive already mounted at /content/drive; to attempt to forcibly remount, call drive.mount(\"/content/drive\", force_remount=True).\n"
          ],
          "name": "stdout"
        }
      ]
    },
    {
      "cell_type": "markdown",
      "metadata": {
        "id": "soxjQMbppXA4"
      },
      "source": [
        "# 2 Reading Inputs\n",
        "\n",
        "Here, we input Toronto Travel time data for January 2020 to March 2020. We consider the weekly aggregate for modeling. "
      ]
    },
    {
      "cell_type": "code",
      "metadata": {
        "id": "kXQH-5nppTZf"
      },
      "source": [
        "travel_times = pd.read_csv('/content/drive/MyDrive/SupervisedLearningScriptandMaterial/toronto/Dataset/Travel_Times.csv')\n",
        "toronto_neighbourhoods_dayly = pd.read_csv('/content/drive/MyDrive/SupervisedLearningScriptandMaterial/toronto/Dataset/toronto-neighbourhoods-2020-1-WeeklyAggregate.csv')\n",
        "\n",
        "# bnglr_wards_weekly = pd.read_csv('/content/drive/MyDrive/SupervisedLearningScriptandMaterial/bangalore/Dataset/bangalore-wards-2020-1-WeeklyAggregate.csv')\n",
        "# bnglr_wards_monthly = pd.read_csv('/content/drive/MyDrive/SupervisedLearningScriptandMaterial/bangalore/Dataset/bangalore-wards-2020-1-All-MonthlyAggregate.csv')"
      ],
      "execution_count": 10,
      "outputs": []
    },
    {
      "cell_type": "markdown",
      "metadata": {
        "id": "hBLu8Frpj8SW"
      },
      "source": [
        "# 3. Data Preparation"
      ]
    },
    {
      "cell_type": "code",
      "metadata": {
        "id": "m91sToiY0Tow"
      },
      "source": [
        ""
      ],
      "execution_count": 10,
      "outputs": []
    },
    {
      "cell_type": "markdown",
      "metadata": {
        "id": "h6L5cGwc0UjI"
      },
      "source": [
        "We would like to use dayly travel time average for modeling. Let's use this first, then you can play around with other time-series data!"
      ]
    },
    {
      "cell_type": "code",
      "metadata": {
        "colab": {
          "base_uri": "https://localhost:8080/",
          "height": 423
        },
        "id": "c3GQHMUj0YkF",
        "outputId": "c907be60-0c90-4d69-f5ef-f22fc551e6c5"
      },
      "source": [
        "toronto_neighbourhoods_dayly"
      ],
      "execution_count": 11,
      "outputs": [
        {
          "output_type": "execute_result",
          "data": {
            "text/html": [
              "<div>\n",
              "<style scoped>\n",
              "    .dataframe tbody tr th:only-of-type {\n",
              "        vertical-align: middle;\n",
              "    }\n",
              "\n",
              "    .dataframe tbody tr th {\n",
              "        vertical-align: top;\n",
              "    }\n",
              "\n",
              "    .dataframe thead th {\n",
              "        text-align: right;\n",
              "    }\n",
              "</style>\n",
              "<table border=\"1\" class=\"dataframe\">\n",
              "  <thead>\n",
              "    <tr style=\"text-align: right;\">\n",
              "      <th></th>\n",
              "      <th>sourceid</th>\n",
              "      <th>dstid</th>\n",
              "      <th>dow</th>\n",
              "      <th>mean_travel_time</th>\n",
              "      <th>standard_deviation_travel_time</th>\n",
              "      <th>geometric_mean_travel_time</th>\n",
              "      <th>geometric_standard_deviation_travel_time</th>\n",
              "    </tr>\n",
              "  </thead>\n",
              "  <tbody>\n",
              "    <tr>\n",
              "      <th>0</th>\n",
              "      <td>129</td>\n",
              "      <td>47</td>\n",
              "      <td>2</td>\n",
              "      <td>1556.85</td>\n",
              "      <td>537.31</td>\n",
              "      <td>1476.10</td>\n",
              "      <td>1.38</td>\n",
              "    </tr>\n",
              "    <tr>\n",
              "      <th>1</th>\n",
              "      <td>80</td>\n",
              "      <td>89</td>\n",
              "      <td>2</td>\n",
              "      <td>416.18</td>\n",
              "      <td>154.30</td>\n",
              "      <td>394.96</td>\n",
              "      <td>1.37</td>\n",
              "    </tr>\n",
              "    <tr>\n",
              "      <th>2</th>\n",
              "      <td>128</td>\n",
              "      <td>86</td>\n",
              "      <td>2</td>\n",
              "      <td>132.03</td>\n",
              "      <td>85.68</td>\n",
              "      <td>107.52</td>\n",
              "      <td>2.08</td>\n",
              "    </tr>\n",
              "    <tr>\n",
              "      <th>3</th>\n",
              "      <td>129</td>\n",
              "      <td>76</td>\n",
              "      <td>2</td>\n",
              "      <td>763.53</td>\n",
              "      <td>224.10</td>\n",
              "      <td>731.70</td>\n",
              "      <td>1.35</td>\n",
              "    </tr>\n",
              "    <tr>\n",
              "      <th>4</th>\n",
              "      <td>35</td>\n",
              "      <td>77</td>\n",
              "      <td>1</td>\n",
              "      <td>1700.19</td>\n",
              "      <td>610.52</td>\n",
              "      <td>1609.98</td>\n",
              "      <td>1.37</td>\n",
              "    </tr>\n",
              "    <tr>\n",
              "      <th>...</th>\n",
              "      <td>...</td>\n",
              "      <td>...</td>\n",
              "      <td>...</td>\n",
              "      <td>...</td>\n",
              "      <td>...</td>\n",
              "      <td>...</td>\n",
              "      <td>...</td>\n",
              "    </tr>\n",
              "    <tr>\n",
              "      <th>125087</th>\n",
              "      <td>34</td>\n",
              "      <td>125</td>\n",
              "      <td>7</td>\n",
              "      <td>575.24</td>\n",
              "      <td>183.47</td>\n",
              "      <td>551.97</td>\n",
              "      <td>1.32</td>\n",
              "    </tr>\n",
              "    <tr>\n",
              "      <th>125088</th>\n",
              "      <td>92</td>\n",
              "      <td>103</td>\n",
              "      <td>3</td>\n",
              "      <td>1964.66</td>\n",
              "      <td>533.35</td>\n",
              "      <td>1896.40</td>\n",
              "      <td>1.30</td>\n",
              "    </tr>\n",
              "    <tr>\n",
              "      <th>125089</th>\n",
              "      <td>33</td>\n",
              "      <td>135</td>\n",
              "      <td>7</td>\n",
              "      <td>1807.29</td>\n",
              "      <td>403.37</td>\n",
              "      <td>1766.86</td>\n",
              "      <td>1.23</td>\n",
              "    </tr>\n",
              "    <tr>\n",
              "      <th>125090</th>\n",
              "      <td>136</td>\n",
              "      <td>9</td>\n",
              "      <td>1</td>\n",
              "      <td>967.56</td>\n",
              "      <td>270.94</td>\n",
              "      <td>934.87</td>\n",
              "      <td>1.29</td>\n",
              "    </tr>\n",
              "    <tr>\n",
              "      <th>125091</th>\n",
              "      <td>91</td>\n",
              "      <td>113</td>\n",
              "      <td>3</td>\n",
              "      <td>2011.44</td>\n",
              "      <td>654.88</td>\n",
              "      <td>1915.09</td>\n",
              "      <td>1.36</td>\n",
              "    </tr>\n",
              "  </tbody>\n",
              "</table>\n",
              "<p>125092 rows × 7 columns</p>\n",
              "</div>"
            ],
            "text/plain": [
              "        sourceid  ...  geometric_standard_deviation_travel_time\n",
              "0            129  ...                                      1.38\n",
              "1             80  ...                                      1.37\n",
              "2            128  ...                                      2.08\n",
              "3            129  ...                                      1.35\n",
              "4             35  ...                                      1.37\n",
              "...          ...  ...                                       ...\n",
              "125087        34  ...                                      1.32\n",
              "125088        92  ...                                      1.30\n",
              "125089        33  ...                                      1.23\n",
              "125090       136  ...                                      1.29\n",
              "125091        91  ...                                      1.36\n",
              "\n",
              "[125092 rows x 7 columns]"
            ]
          },
          "metadata": {
            "tags": []
          },
          "execution_count": 11
        }
      ]
    },
    {
      "cell_type": "code",
      "metadata": {
        "colab": {
          "base_uri": "https://localhost:8080/",
          "height": 414
        },
        "id": "Kbs6lHwqwfs2",
        "outputId": "63b6caaf-9e8a-4836-a592-b36eae4722b4"
      },
      "source": [
        "travel_times.head()"
      ],
      "execution_count": 12,
      "outputs": [
        {
          "output_type": "execute_result",
          "data": {
            "text/html": [
              "<div>\n",
              "<style scoped>\n",
              "    .dataframe tbody tr th:only-of-type {\n",
              "        vertical-align: middle;\n",
              "    }\n",
              "\n",
              "    .dataframe tbody tr th {\n",
              "        vertical-align: top;\n",
              "    }\n",
              "\n",
              "    .dataframe thead th {\n",
              "        text-align: right;\n",
              "    }\n",
              "</style>\n",
              "<table border=\"1\" class=\"dataframe\">\n",
              "  <thead>\n",
              "    <tr style=\"text-align: right;\">\n",
              "      <th></th>\n",
              "      <th>Origin Movement ID</th>\n",
              "      <th>Origin Display Name</th>\n",
              "      <th>Destination Movement ID</th>\n",
              "      <th>Destination Display Name</th>\n",
              "      <th>Date Range</th>\n",
              "      <th>Mean Travel Time (Seconds)</th>\n",
              "      <th>Range - Lower Bound Travel Time (Seconds)</th>\n",
              "      <th>Range - Upper Bound Travel Time (Seconds)</th>\n",
              "    </tr>\n",
              "  </thead>\n",
              "  <tbody>\n",
              "    <tr>\n",
              "      <th>0</th>\n",
              "      <td>113</td>\n",
              "      <td>Saint Basil Lane, Bay Cloverhill, Old Toronto,...</td>\n",
              "      <td>1</td>\n",
              "      <td>York University Busway, York University Height...</td>\n",
              "      <td>3/1/2020 - 3/31/2020, Every day, Daily Average</td>\n",
              "      <td>1870</td>\n",
              "      <td>1405</td>\n",
              "      <td>2487</td>\n",
              "    </tr>\n",
              "    <tr>\n",
              "      <th>1</th>\n",
              "      <td>113</td>\n",
              "      <td>Saint Basil Lane, Bay Cloverhill, Old Toronto,...</td>\n",
              "      <td>2</td>\n",
              "      <td>0 Hambly Avenue, The Beach, Old Toronto, Toronto</td>\n",
              "      <td>3/1/2020 - 3/31/2020, Every day, Daily Average</td>\n",
              "      <td>886</td>\n",
              "      <td>635</td>\n",
              "      <td>1235</td>\n",
              "    </tr>\n",
              "    <tr>\n",
              "      <th>2</th>\n",
              "      <td>113</td>\n",
              "      <td>Saint Basil Lane, Bay Cloverhill, Old Toronto,...</td>\n",
              "      <td>3</td>\n",
              "      <td>3400 Kingston Road, Scarborough Village, Scarb...</td>\n",
              "      <td>3/1/2020 - 3/31/2020, Every day, Daily Average</td>\n",
              "      <td>2090</td>\n",
              "      <td>1649</td>\n",
              "      <td>2648</td>\n",
              "    </tr>\n",
              "    <tr>\n",
              "      <th>3</th>\n",
              "      <td>113</td>\n",
              "      <td>Saint Basil Lane, Bay Cloverhill, Old Toronto,...</td>\n",
              "      <td>4</td>\n",
              "      <td>100 Dunn Avenue, Parkdale, Old Toronto, Toronto</td>\n",
              "      <td>3/1/2020 - 3/31/2020, Every day, Daily Average</td>\n",
              "      <td>815</td>\n",
              "      <td>530</td>\n",
              "      <td>1252</td>\n",
              "    </tr>\n",
              "    <tr>\n",
              "      <th>4</th>\n",
              "      <td>113</td>\n",
              "      <td>Saint Basil Lane, Bay Cloverhill, Old Toronto,...</td>\n",
              "      <td>5</td>\n",
              "      <td>0 Carlaw Avenue, Leslieville, Old Toronto, Tor...</td>\n",
              "      <td>3/1/2020 - 3/31/2020, Every day, Daily Average</td>\n",
              "      <td>540</td>\n",
              "      <td>372</td>\n",
              "      <td>782</td>\n",
              "    </tr>\n",
              "  </tbody>\n",
              "</table>\n",
              "</div>"
            ],
            "text/plain": [
              "   Origin Movement ID  ... Range - Upper Bound Travel Time (Seconds)\n",
              "0                 113  ...                                      2487\n",
              "1                 113  ...                                      1235\n",
              "2                 113  ...                                      2648\n",
              "3                 113  ...                                      1252\n",
              "4                 113  ...                                       782\n",
              "\n",
              "[5 rows x 8 columns]"
            ]
          },
          "metadata": {
            "tags": []
          },
          "execution_count": 12
        }
      ]
    },
    {
      "cell_type": "code",
      "metadata": {
        "colab": {
          "base_uri": "https://localhost:8080/",
          "height": 423
        },
        "id": "noHfmjoewrmB",
        "outputId": "f76852b1-34f8-47bc-c0bf-b6d6a442d4ee"
      },
      "source": [
        "toronto_neighbourhoods_dayly"
      ],
      "execution_count": 13,
      "outputs": [
        {
          "output_type": "execute_result",
          "data": {
            "text/html": [
              "<div>\n",
              "<style scoped>\n",
              "    .dataframe tbody tr th:only-of-type {\n",
              "        vertical-align: middle;\n",
              "    }\n",
              "\n",
              "    .dataframe tbody tr th {\n",
              "        vertical-align: top;\n",
              "    }\n",
              "\n",
              "    .dataframe thead th {\n",
              "        text-align: right;\n",
              "    }\n",
              "</style>\n",
              "<table border=\"1\" class=\"dataframe\">\n",
              "  <thead>\n",
              "    <tr style=\"text-align: right;\">\n",
              "      <th></th>\n",
              "      <th>sourceid</th>\n",
              "      <th>dstid</th>\n",
              "      <th>dow</th>\n",
              "      <th>mean_travel_time</th>\n",
              "      <th>standard_deviation_travel_time</th>\n",
              "      <th>geometric_mean_travel_time</th>\n",
              "      <th>geometric_standard_deviation_travel_time</th>\n",
              "    </tr>\n",
              "  </thead>\n",
              "  <tbody>\n",
              "    <tr>\n",
              "      <th>0</th>\n",
              "      <td>129</td>\n",
              "      <td>47</td>\n",
              "      <td>2</td>\n",
              "      <td>1556.85</td>\n",
              "      <td>537.31</td>\n",
              "      <td>1476.10</td>\n",
              "      <td>1.38</td>\n",
              "    </tr>\n",
              "    <tr>\n",
              "      <th>1</th>\n",
              "      <td>80</td>\n",
              "      <td>89</td>\n",
              "      <td>2</td>\n",
              "      <td>416.18</td>\n",
              "      <td>154.30</td>\n",
              "      <td>394.96</td>\n",
              "      <td>1.37</td>\n",
              "    </tr>\n",
              "    <tr>\n",
              "      <th>2</th>\n",
              "      <td>128</td>\n",
              "      <td>86</td>\n",
              "      <td>2</td>\n",
              "      <td>132.03</td>\n",
              "      <td>85.68</td>\n",
              "      <td>107.52</td>\n",
              "      <td>2.08</td>\n",
              "    </tr>\n",
              "    <tr>\n",
              "      <th>3</th>\n",
              "      <td>129</td>\n",
              "      <td>76</td>\n",
              "      <td>2</td>\n",
              "      <td>763.53</td>\n",
              "      <td>224.10</td>\n",
              "      <td>731.70</td>\n",
              "      <td>1.35</td>\n",
              "    </tr>\n",
              "    <tr>\n",
              "      <th>4</th>\n",
              "      <td>35</td>\n",
              "      <td>77</td>\n",
              "      <td>1</td>\n",
              "      <td>1700.19</td>\n",
              "      <td>610.52</td>\n",
              "      <td>1609.98</td>\n",
              "      <td>1.37</td>\n",
              "    </tr>\n",
              "    <tr>\n",
              "      <th>...</th>\n",
              "      <td>...</td>\n",
              "      <td>...</td>\n",
              "      <td>...</td>\n",
              "      <td>...</td>\n",
              "      <td>...</td>\n",
              "      <td>...</td>\n",
              "      <td>...</td>\n",
              "    </tr>\n",
              "    <tr>\n",
              "      <th>125087</th>\n",
              "      <td>34</td>\n",
              "      <td>125</td>\n",
              "      <td>7</td>\n",
              "      <td>575.24</td>\n",
              "      <td>183.47</td>\n",
              "      <td>551.97</td>\n",
              "      <td>1.32</td>\n",
              "    </tr>\n",
              "    <tr>\n",
              "      <th>125088</th>\n",
              "      <td>92</td>\n",
              "      <td>103</td>\n",
              "      <td>3</td>\n",
              "      <td>1964.66</td>\n",
              "      <td>533.35</td>\n",
              "      <td>1896.40</td>\n",
              "      <td>1.30</td>\n",
              "    </tr>\n",
              "    <tr>\n",
              "      <th>125089</th>\n",
              "      <td>33</td>\n",
              "      <td>135</td>\n",
              "      <td>7</td>\n",
              "      <td>1807.29</td>\n",
              "      <td>403.37</td>\n",
              "      <td>1766.86</td>\n",
              "      <td>1.23</td>\n",
              "    </tr>\n",
              "    <tr>\n",
              "      <th>125090</th>\n",
              "      <td>136</td>\n",
              "      <td>9</td>\n",
              "      <td>1</td>\n",
              "      <td>967.56</td>\n",
              "      <td>270.94</td>\n",
              "      <td>934.87</td>\n",
              "      <td>1.29</td>\n",
              "    </tr>\n",
              "    <tr>\n",
              "      <th>125091</th>\n",
              "      <td>91</td>\n",
              "      <td>113</td>\n",
              "      <td>3</td>\n",
              "      <td>2011.44</td>\n",
              "      <td>654.88</td>\n",
              "      <td>1915.09</td>\n",
              "      <td>1.36</td>\n",
              "    </tr>\n",
              "  </tbody>\n",
              "</table>\n",
              "<p>125092 rows × 7 columns</p>\n",
              "</div>"
            ],
            "text/plain": [
              "        sourceid  ...  geometric_standard_deviation_travel_time\n",
              "0            129  ...                                      1.38\n",
              "1             80  ...                                      1.37\n",
              "2            128  ...                                      2.08\n",
              "3            129  ...                                      1.35\n",
              "4             35  ...                                      1.37\n",
              "...          ...  ...                                       ...\n",
              "125087        34  ...                                      1.32\n",
              "125088        92  ...                                      1.30\n",
              "125089        33  ...                                      1.23\n",
              "125090       136  ...                                      1.29\n",
              "125091        91  ...                                      1.36\n",
              "\n",
              "[125092 rows x 7 columns]"
            ]
          },
          "metadata": {
            "tags": []
          },
          "execution_count": 13
        }
      ]
    },
    {
      "cell_type": "code",
      "metadata": {
        "colab": {
          "base_uri": "https://localhost:8080/",
          "height": 483
        },
        "id": "L4oRtbf_w6iA",
        "outputId": "415a40bd-0b97-410a-8a32-f97dbaf3f37a"
      },
      "source": [
        "mean_travel_time_by_day_of_week = toronto_neighbourhoods_dayly.groupby('dow')['mean_travel_time'].mean()/60\n",
        "plt = mean_travel_time_by_day_of_week.plot(kind=\"bar\", figsize=(16,7))\n",
        "plt.set_title('Mean travel times around Toronto', fontsize=20)\n",
        "plt.set_xlabel('Day of Week', fontsize = 16)\n",
        "plt.set_ylabel('Mean travel time in mins', fontsize = 16)"
      ],
      "execution_count": 14,
      "outputs": [
        {
          "output_type": "execute_result",
          "data": {
            "text/plain": [
              "Text(0, 0.5, 'Mean travel time in mins')"
            ]
          },
          "metadata": {
            "tags": []
          },
          "execution_count": 14
        },
        {
          "output_type": "display_data",
          "data": {
            "image/png": "[encoded data removed]",
            "text/plain": [
              "<Figure size 1152x504 with 1 Axes>"
            ]
          },
          "metadata": {
            "tags": [],
            "needs_background": "light"
          }
        }
      ]
    },
    {
      "cell_type": "markdown",
      "metadata": {
        "id": "w-md2Yawig4B"
      },
      "source": [
        "Seen from the graph above, the high mean travel time occurs on weekdays, namely days 1, 2, 3, 4, 5. This is due to the dense mobility of workers."
      ]
    },
    {
      "cell_type": "code",
      "metadata": {
        "id": "s7yNgDLMiZn5"
      },
      "source": [
        ""
      ],
      "execution_count": 14,
      "outputs": []
    },
    {
      "cell_type": "code",
      "metadata": {
        "colab": {
          "base_uri": "https://localhost:8080/",
          "height": 481
        },
        "id": "dS-pjzpgxpbd",
        "outputId": "68c86dda-2cc8-44a8-8ade-88c540464a7a"
      },
      "source": [
        "std_dev_travel_time_by_day_of_week = toronto_neighbourhoods_dayly.groupby('dow')['standard_deviation_travel_time'].mean()/60\n",
        "plt = std_dev_travel_time_by_day_of_week.plot(kind=\"bar\", figsize = (16,7))\n",
        "plt.set_title('Std Dev of travel times around Toronto', fontsize =20)\n",
        "plt.set_xlabel('Day of Week', fontsize = 12)\n",
        "plt.set_ylabel('Std Dev off travel time in mins', fontsize = 12)"
      ],
      "execution_count": 15,
      "outputs": [
        {
          "output_type": "execute_result",
          "data": {
            "text/plain": [
              "Text(0, 0.5, 'Std Dev off travel time in mins')"
            ]
          },
          "metadata": {
            "tags": []
          },
          "execution_count": 15
        },
        {
          "output_type": "display_data",
          "data": {
            "image/png": "[encoded data removed]",
            "text/plain": [
              "<Figure size 1152x504 with 1 Axes>"
            ]
          },
          "metadata": {
            "tags": [],
            "needs_background": "light"
          }
        }
      ]
    },
    {
      "cell_type": "markdown",
      "metadata": {
        "id": "etosBTd71Cb0"
      },
      "source": [
        "## 3.1 (Map of Toronto City)"
      ]
    },
    {
      "cell_type": "code",
      "metadata": {
        "id": "dGlU2R5E08Xe"
      },
      "source": [
        "toronto = gpd.read_file('/content/drive/MyDrive/SupervisedLearningScriptandMaterial/toronto/Dataset/toronto_neighbourhoods.json')"
      ],
      "execution_count": 16,
      "outputs": []
    },
    {
      "cell_type": "code",
      "metadata": {
        "colab": {
          "base_uri": "https://localhost:8080/",
          "height": 283
        },
        "id": "vjkz4naH1bYh",
        "outputId": "bc3f6693-9ee3-4f3b-b363-dd4813c5998e"
      },
      "source": [
        "toronto.plot()"
      ],
      "execution_count": 17,
      "outputs": [
        {
          "output_type": "execute_result",
          "data": {
            "text/plain": [
              "<matplotlib.axes._subplots.AxesSubplot at 0x7f3dcb090f90>"
            ]
          },
          "metadata": {
            "tags": []
          },
          "execution_count": 17
        },
        {
          "output_type": "display_data",
          "data": {
            "image/png": "[encoded data removed]",
            "text/plain": [
              "<Figure size 432x288 with 1 Axes>"
            ]
          },
          "metadata": {
            "tags": [],
            "needs_background": "light"
          }
        }
      ]
    },
    {
      "cell_type": "markdown",
      "metadata": {
        "id": "5ezXc-86jnyb"
      },
      "source": [
        "Seen from the graph above is a map of the Toronto city."
      ]
    },
    {
      "cell_type": "code",
      "metadata": {
        "id": "piFHyNJhjmZc",
        "colab": {
          "base_uri": "https://localhost:8080/",
          "height": 131
        },
        "outputId": "b4b3a2b8-af08-4bf2-911a-1d5ba3653f90"
      },
      "source": [
        "Seen from the graph above is a map of the city of Toronto"
      ],
      "execution_count": 18,
      "outputs": [
        {
          "output_type": "error",
          "ename": "SyntaxError",
          "evalue": "ignored",
          "traceback": [
            "\u001b[0;36m  File \u001b[0;32m\"<ipython-input-18-68982aacabc6>\"\u001b[0;36m, line \u001b[0;32m1\u001b[0m\n\u001b[0;31m    Seen from the graph above is a map of the city of Toronto\u001b[0m\n\u001b[0m            ^\u001b[0m\n\u001b[0;31mSyntaxError\u001b[0m\u001b[0;31m:\u001b[0m invalid syntax\n"
          ]
        }
      ]
    },
    {
      "cell_type": "code",
      "metadata": {
        "colab": {
          "base_uri": "https://localhost:8080/",
          "height": 206
        },
        "id": "DUdmwd6d1foa",
        "outputId": "57cc4f5b-e5df-4984-c106-972f4b8d45ea"
      },
      "source": [
        "toronto.head()"
      ],
      "execution_count": 19,
      "outputs": [
        {
          "output_type": "execute_result",
          "data": {
            "text/html": [
              "<div>\n",
              "<style scoped>\n",
              "    .dataframe tbody tr th:only-of-type {\n",
              "        vertical-align: middle;\n",
              "    }\n",
              "\n",
              "    .dataframe tbody tr th {\n",
              "        vertical-align: top;\n",
              "    }\n",
              "\n",
              "    .dataframe thead th {\n",
              "        text-align: right;\n",
              "    }\n",
              "</style>\n",
              "<table border=\"1\" class=\"dataframe\">\n",
              "  <thead>\n",
              "    <tr style=\"text-align: right;\">\n",
              "      <th></th>\n",
              "      <th>MOVEMENT_ID</th>\n",
              "      <th>DISPLAY_NAME</th>\n",
              "      <th>geometry</th>\n",
              "    </tr>\n",
              "  </thead>\n",
              "  <tbody>\n",
              "    <tr>\n",
              "      <th>0</th>\n",
              "      <td>1</td>\n",
              "      <td>York University Busway, York University Height...</td>\n",
              "      <td>MULTIPOLYGON (((-79.50529 43.75987, -79.50488 ...</td>\n",
              "    </tr>\n",
              "    <tr>\n",
              "      <th>1</th>\n",
              "      <td>2</td>\n",
              "      <td>0 Hambly Avenue, The Beach, Old Toronto, Toronto</td>\n",
              "      <td>MULTIPOLYGON (((-79.31485 43.66674, -79.31356 ...</td>\n",
              "    </tr>\n",
              "    <tr>\n",
              "      <th>2</th>\n",
              "      <td>3</td>\n",
              "      <td>3400 Kingston Road, Scarborough Village, Scarb...</td>\n",
              "      <td>MULTIPOLYGON (((-79.21397 43.72676, -79.21400 ...</td>\n",
              "    </tr>\n",
              "    <tr>\n",
              "      <th>3</th>\n",
              "      <td>4</td>\n",
              "      <td>100 Dunn Avenue, Parkdale, Old Toronto, Toronto</td>\n",
              "      <td>MULTIPOLYGON (((-79.42777 43.62979, -79.42948 ...</td>\n",
              "    </tr>\n",
              "    <tr>\n",
              "      <th>4</th>\n",
              "      <td>5</td>\n",
              "      <td>0 Carlaw Avenue, Leslieville, Old Toronto, Tor...</td>\n",
              "      <td>MULTIPOLYGON (((-79.32868 43.64745, -79.32867 ...</td>\n",
              "    </tr>\n",
              "  </tbody>\n",
              "</table>\n",
              "</div>"
            ],
            "text/plain": [
              "  MOVEMENT_ID  ...                                           geometry\n",
              "0           1  ...  MULTIPOLYGON (((-79.50529 43.75987, -79.50488 ...\n",
              "1           2  ...  MULTIPOLYGON (((-79.31485 43.66674, -79.31356 ...\n",
              "2           3  ...  MULTIPOLYGON (((-79.21397 43.72676, -79.21400 ...\n",
              "3           4  ...  MULTIPOLYGON (((-79.42777 43.62979, -79.42948 ...\n",
              "4           5  ...  MULTIPOLYGON (((-79.32868 43.64745, -79.32867 ...\n",
              "\n",
              "[5 rows x 3 columns]"
            ]
          },
          "metadata": {
            "tags": []
          },
          "execution_count": 19
        }
      ]
    },
    {
      "cell_type": "markdown",
      "metadata": {
        "id": "AFJJpl6Z8ENT"
      },
      "source": [
        "### 3.1.1 Picking centroids to represent an area"
      ]
    },
    {
      "cell_type": "code",
      "metadata": {
        "colab": {
          "base_uri": "https://localhost:8080/",
          "height": 501
        },
        "id": "Lw3zRJPx8GOr",
        "outputId": "634c080f-9416-4248-da11-e61c6169e359"
      },
      "source": [
        "toronto = toronto.drop(columns=['MOVEMENT_ID'])\n",
        "toronto_c = toronto.copy()\n",
        "toronto_c.geometry = toronto_c['geometry'].centroid\n",
        "fig, ax = plot.subplots(figsize=(9,9))\n",
        "toronto.plot(color='grey',ax=ax)\n",
        "toronto_c.plot(color='red',ax=ax)"
      ],
      "execution_count": 20,
      "outputs": [
        {
          "output_type": "stream",
          "text": [
            "/usr/local/lib/python3.7/dist-packages/ipykernel_launcher.py:3: UserWarning: Geometry is in a geographic CRS. Results from 'centroid' are likely incorrect. Use 'GeoSeries.to_crs()' to re-project geometries to a projected CRS before this operation.\n",
            "\n",
            "  This is separate from the ipykernel package so we can avoid doing imports until\n"
          ],
          "name": "stderr"
        },
        {
          "output_type": "execute_result",
          "data": {
            "text/plain": [
              "<matplotlib.axes._subplots.AxesSubplot at 0x7f3dc2170190>"
            ]
          },
          "metadata": {
            "tags": []
          },
          "execution_count": 20
        },
        {
          "output_type": "display_data",
          "data": {
            "image/png": "[encoded data removed]",
            "text/plain": [
              "<Figure size 648x648 with 1 Axes>"
            ]
          },
          "metadata": {
            "tags": [],
            "needs_background": "light"
          }
        }
      ]
    },
    {
      "cell_type": "code",
      "metadata": {
        "colab": {
          "base_uri": "https://localhost:8080/",
          "height": 150
        },
        "id": "-Xz7KrJd9Dit",
        "outputId": "82934351-6b3d-4121-c65a-74557ba44781"
      },
      "source": [
        "travel_times.head(1)"
      ],
      "execution_count": 21,
      "outputs": [
        {
          "output_type": "execute_result",
          "data": {
            "text/html": [
              "<div>\n",
              "<style scoped>\n",
              "    .dataframe tbody tr th:only-of-type {\n",
              "        vertical-align: middle;\n",
              "    }\n",
              "\n",
              "    .dataframe tbody tr th {\n",
              "        vertical-align: top;\n",
              "    }\n",
              "\n",
              "    .dataframe thead th {\n",
              "        text-align: right;\n",
              "    }\n",
              "</style>\n",
              "<table border=\"1\" class=\"dataframe\">\n",
              "  <thead>\n",
              "    <tr style=\"text-align: right;\">\n",
              "      <th></th>\n",
              "      <th>Origin Movement ID</th>\n",
              "      <th>Origin Display Name</th>\n",
              "      <th>Destination Movement ID</th>\n",
              "      <th>Destination Display Name</th>\n",
              "      <th>Date Range</th>\n",
              "      <th>Mean Travel Time (Seconds)</th>\n",
              "      <th>Range - Lower Bound Travel Time (Seconds)</th>\n",
              "      <th>Range - Upper Bound Travel Time (Seconds)</th>\n",
              "    </tr>\n",
              "  </thead>\n",
              "  <tbody>\n",
              "    <tr>\n",
              "      <th>0</th>\n",
              "      <td>113</td>\n",
              "      <td>Saint Basil Lane, Bay Cloverhill, Old Toronto,...</td>\n",
              "      <td>1</td>\n",
              "      <td>York University Busway, York University Height...</td>\n",
              "      <td>3/1/2020 - 3/31/2020, Every day, Daily Average</td>\n",
              "      <td>1870</td>\n",
              "      <td>1405</td>\n",
              "      <td>2487</td>\n",
              "    </tr>\n",
              "  </tbody>\n",
              "</table>\n",
              "</div>"
            ],
            "text/plain": [
              "   Origin Movement ID  ... Range - Upper Bound Travel Time (Seconds)\n",
              "0                 113  ...                                      2487\n",
              "\n",
              "[1 rows x 8 columns]"
            ]
          },
          "metadata": {
            "tags": []
          },
          "execution_count": 21
        }
      ]
    },
    {
      "cell_type": "code",
      "metadata": {
        "colab": {
          "base_uri": "https://localhost:8080/",
          "height": 206
        },
        "id": "6uatX8Td8cA2",
        "outputId": "2f26f6f6-fce6-4160-8751-bf2bc2169696"
      },
      "source": [
        "id_to_dest = travel_times[['Destination Movement ID', 'Destination Display Name']]\n",
        "id_to_dest.columns = ['id', 'name']\n",
        "id_to_dest.head()"
      ],
      "execution_count": 22,
      "outputs": [
        {
          "output_type": "execute_result",
          "data": {
            "text/html": [
              "<div>\n",
              "<style scoped>\n",
              "    .dataframe tbody tr th:only-of-type {\n",
              "        vertical-align: middle;\n",
              "    }\n",
              "\n",
              "    .dataframe tbody tr th {\n",
              "        vertical-align: top;\n",
              "    }\n",
              "\n",
              "    .dataframe thead th {\n",
              "        text-align: right;\n",
              "    }\n",
              "</style>\n",
              "<table border=\"1\" class=\"dataframe\">\n",
              "  <thead>\n",
              "    <tr style=\"text-align: right;\">\n",
              "      <th></th>\n",
              "      <th>id</th>\n",
              "      <th>name</th>\n",
              "    </tr>\n",
              "  </thead>\n",
              "  <tbody>\n",
              "    <tr>\n",
              "      <th>0</th>\n",
              "      <td>1</td>\n",
              "      <td>York University Busway, York University Height...</td>\n",
              "    </tr>\n",
              "    <tr>\n",
              "      <th>1</th>\n",
              "      <td>2</td>\n",
              "      <td>0 Hambly Avenue, The Beach, Old Toronto, Toronto</td>\n",
              "    </tr>\n",
              "    <tr>\n",
              "      <th>2</th>\n",
              "      <td>3</td>\n",
              "      <td>3400 Kingston Road, Scarborough Village, Scarb...</td>\n",
              "    </tr>\n",
              "    <tr>\n",
              "      <th>3</th>\n",
              "      <td>4</td>\n",
              "      <td>100 Dunn Avenue, Parkdale, Old Toronto, Toronto</td>\n",
              "    </tr>\n",
              "    <tr>\n",
              "      <th>4</th>\n",
              "      <td>5</td>\n",
              "      <td>0 Carlaw Avenue, Leslieville, Old Toronto, Tor...</td>\n",
              "    </tr>\n",
              "  </tbody>\n",
              "</table>\n",
              "</div>"
            ],
            "text/plain": [
              "   id                                               name\n",
              "0   1  York University Busway, York University Height...\n",
              "1   2   0 Hambly Avenue, The Beach, Old Toronto, Toronto\n",
              "2   3  3400 Kingston Road, Scarborough Village, Scarb...\n",
              "3   4    100 Dunn Avenue, Parkdale, Old Toronto, Toronto\n",
              "4   5  0 Carlaw Avenue, Leslieville, Old Toronto, Tor..."
            ]
          },
          "metadata": {
            "tags": []
          },
          "execution_count": 22
        }
      ]
    },
    {
      "cell_type": "markdown",
      "metadata": {
        "id": "shkGOuAd9fIe"
      },
      "source": [
        "### 3.1.2 Get some random points from each neighbor to diversify representation"
      ]
    },
    {
      "cell_type": "code",
      "metadata": {
        "colab": {
          "base_uri": "https://localhost:8080/",
          "height": 206
        },
        "id": "Lcym2d9C9SSO",
        "outputId": "59a328ca-6b3c-4ecd-b69c-c8b014c57116"
      },
      "source": [
        "from shapely.geometry import Point\n",
        "import random\n",
        "\n",
        "# The number of rows with random points to be created corresponding to each row in source df\n",
        "number = 3\n",
        "\n",
        "def random_points_in_polygon(number, polygon):\n",
        "    points = []\n",
        "    min_x, min_y, max_x, max_y = polygon.bounds\n",
        "    i= 0\n",
        "    while i < number:\n",
        "        point = Point(random.uniform(min_x, max_x), random.uniform(min_y, max_y))\n",
        "        if polygon.contains(point):\n",
        "            points.append(point)\n",
        "            i += 1\n",
        "    return points\n",
        "\n",
        "def diversify_geo_data(df):\n",
        "    new_df = gpd.GeoDataFrame()\n",
        "    common_columns = df.columns\n",
        "    common_columns.tolist().remove('geometry')\n",
        "    for row in df.itertuples():\n",
        "        points = random_points_in_polygon(number, row.geometry)\n",
        "        for point in points:\n",
        "            tmp = gpd.GeoDataFrame(columns=df.columns, data=[list(row[1:2]) + [point]])\n",
        "            new_df = new_df.append(tmp, ignore_index=True)\n",
        "    return new_df\n",
        "            \n",
        "\n",
        "diversified_points = diversify_geo_data(toronto)\n",
        "diversified_points.sample(5)"
      ],
      "execution_count": 23,
      "outputs": [
        {
          "output_type": "execute_result",
          "data": {
            "text/html": [
              "<div>\n",
              "<style scoped>\n",
              "    .dataframe tbody tr th:only-of-type {\n",
              "        vertical-align: middle;\n",
              "    }\n",
              "\n",
              "    .dataframe tbody tr th {\n",
              "        vertical-align: top;\n",
              "    }\n",
              "\n",
              "    .dataframe thead th {\n",
              "        text-align: right;\n",
              "    }\n",
              "</style>\n",
              "<table border=\"1\" class=\"dataframe\">\n",
              "  <thead>\n",
              "    <tr style=\"text-align: right;\">\n",
              "      <th></th>\n",
              "      <th>DISPLAY_NAME</th>\n",
              "      <th>geometry</th>\n",
              "    </tr>\n",
              "  </thead>\n",
              "  <tbody>\n",
              "    <tr>\n",
              "      <th>67</th>\n",
              "      <td>500 Manning Avenue, Palmerston, Old Toronto, T...</td>\n",
              "      <td>POINT (-79.41684 43.66083)</td>\n",
              "    </tr>\n",
              "    <tr>\n",
              "      <th>168</th>\n",
              "      <td>0 Chieftain Crescent, St. Andrew - Windfields,...</td>\n",
              "      <td>POINT (-79.36786 43.75256)</td>\n",
              "    </tr>\n",
              "    <tr>\n",
              "      <th>315</th>\n",
              "      <td>0 Ridgevale Drive, Englemount - Lawrence, Nort...</td>\n",
              "      <td>POINT (-79.43741 43.70792)</td>\n",
              "    </tr>\n",
              "    <tr>\n",
              "      <th>13</th>\n",
              "      <td>0 Carlaw Avenue, Leslieville, Old Toronto, Tor...</td>\n",
              "      <td>POINT (-79.35434 43.64083)</td>\n",
              "    </tr>\n",
              "    <tr>\n",
              "      <th>397</th>\n",
              "      <td>0 Ash Crescent, Long Branch, Etobicoke, Toronto</td>\n",
              "      <td>POINT (-79.52687 43.59582)</td>\n",
              "    </tr>\n",
              "  </tbody>\n",
              "</table>\n",
              "</div>"
            ],
            "text/plain": [
              "                                          DISPLAY_NAME                    geometry\n",
              "67   500 Manning Avenue, Palmerston, Old Toronto, T...  POINT (-79.41684 43.66083)\n",
              "168  0 Chieftain Crescent, St. Andrew - Windfields,...  POINT (-79.36786 43.75256)\n",
              "315  0 Ridgevale Drive, Englemount - Lawrence, Nort...  POINT (-79.43741 43.70792)\n",
              "13   0 Carlaw Avenue, Leslieville, Old Toronto, Tor...  POINT (-79.35434 43.64083)\n",
              "397    0 Ash Crescent, Long Branch, Etobicoke, Toronto  POINT (-79.52687 43.59582)"
            ]
          },
          "metadata": {
            "tags": []
          },
          "execution_count": 23
        }
      ]
    },
    {
      "cell_type": "code",
      "metadata": {
        "colab": {
          "base_uri": "https://localhost:8080/"
        },
        "id": "QSLQ-yTi9-F1",
        "outputId": "e2669348-a14b-416e-f164-f020320f2623"
      },
      "source": [
        "diversified_points.shape"
      ],
      "execution_count": 24,
      "outputs": [
        {
          "output_type": "execute_result",
          "data": {
            "text/plain": [
              "(423, 2)"
            ]
          },
          "metadata": {
            "tags": []
          },
          "execution_count": 24
        }
      ]
    },
    {
      "cell_type": "code",
      "metadata": {
        "colab": {
          "base_uri": "https://localhost:8080/",
          "height": 206
        },
        "id": "W56QE5Ce-mH_",
        "outputId": "ac3ac4d5-6605-4630-b1bb-533a9c2803a5"
      },
      "source": [
        "toronto.head()"
      ],
      "execution_count": 25,
      "outputs": [
        {
          "output_type": "execute_result",
          "data": {
            "text/html": [
              "<div>\n",
              "<style scoped>\n",
              "    .dataframe tbody tr th:only-of-type {\n",
              "        vertical-align: middle;\n",
              "    }\n",
              "\n",
              "    .dataframe tbody tr th {\n",
              "        vertical-align: top;\n",
              "    }\n",
              "\n",
              "    .dataframe thead th {\n",
              "        text-align: right;\n",
              "    }\n",
              "</style>\n",
              "<table border=\"1\" class=\"dataframe\">\n",
              "  <thead>\n",
              "    <tr style=\"text-align: right;\">\n",
              "      <th></th>\n",
              "      <th>DISPLAY_NAME</th>\n",
              "      <th>geometry</th>\n",
              "    </tr>\n",
              "  </thead>\n",
              "  <tbody>\n",
              "    <tr>\n",
              "      <th>0</th>\n",
              "      <td>York University Busway, York University Height...</td>\n",
              "      <td>MULTIPOLYGON (((-79.50529 43.75987, -79.50488 ...</td>\n",
              "    </tr>\n",
              "    <tr>\n",
              "      <th>1</th>\n",
              "      <td>0 Hambly Avenue, The Beach, Old Toronto, Toronto</td>\n",
              "      <td>MULTIPOLYGON (((-79.31485 43.66674, -79.31356 ...</td>\n",
              "    </tr>\n",
              "    <tr>\n",
              "      <th>2</th>\n",
              "      <td>3400 Kingston Road, Scarborough Village, Scarb...</td>\n",
              "      <td>MULTIPOLYGON (((-79.21397 43.72676, -79.21400 ...</td>\n",
              "    </tr>\n",
              "    <tr>\n",
              "      <th>3</th>\n",
              "      <td>100 Dunn Avenue, Parkdale, Old Toronto, Toronto</td>\n",
              "      <td>MULTIPOLYGON (((-79.42777 43.62979, -79.42948 ...</td>\n",
              "    </tr>\n",
              "    <tr>\n",
              "      <th>4</th>\n",
              "      <td>0 Carlaw Avenue, Leslieville, Old Toronto, Tor...</td>\n",
              "      <td>MULTIPOLYGON (((-79.32868 43.64745, -79.32867 ...</td>\n",
              "    </tr>\n",
              "  </tbody>\n",
              "</table>\n",
              "</div>"
            ],
            "text/plain": [
              "                                        DISPLAY_NAME                                           geometry\n",
              "0  York University Busway, York University Height...  MULTIPOLYGON (((-79.50529 43.75987, -79.50488 ...\n",
              "1   0 Hambly Avenue, The Beach, Old Toronto, Toronto  MULTIPOLYGON (((-79.31485 43.66674, -79.31356 ...\n",
              "2  3400 Kingston Road, Scarborough Village, Scarb...  MULTIPOLYGON (((-79.21397 43.72676, -79.21400 ...\n",
              "3    100 Dunn Avenue, Parkdale, Old Toronto, Toronto  MULTIPOLYGON (((-79.42777 43.62979, -79.42948 ...\n",
              "4  0 Carlaw Avenue, Leslieville, Old Toronto, Tor...  MULTIPOLYGON (((-79.32868 43.64745, -79.32867 ..."
            ]
          },
          "metadata": {
            "tags": []
          },
          "execution_count": 25
        }
      ]
    },
    {
      "cell_type": "code",
      "metadata": {
        "colab": {
          "base_uri": "https://localhost:8080/",
          "height": 329
        },
        "id": "iT5r8Bgf-bgS",
        "outputId": "d6210cfb-71bd-49d4-859d-f255710fba5f"
      },
      "source": [
        "fig, ax = plot.subplots(figsize=(9,9))\n",
        "toronto.plot(color='grey',ax=ax)\n",
        "diversified_points.plot(color='red',ax=ax)"
      ],
      "execution_count": 26,
      "outputs": [
        {
          "output_type": "execute_result",
          "data": {
            "text/plain": [
              "<matplotlib.axes._subplots.AxesSubplot at 0x7f3dc08c6e50>"
            ]
          },
          "metadata": {
            "tags": []
          },
          "execution_count": 26
        },
        {
          "output_type": "display_data",
          "data": {
            "image/png": "[encoded data removed]",
            "text/plain": [
              "<Figure size 648x648 with 1 Axes>"
            ]
          },
          "metadata": {
            "tags": [],
            "needs_background": "light"
          }
        }
      ]
    },
    {
      "cell_type": "markdown",
      "metadata": {
        "id": "NxXc2oULKHW-"
      },
      "source": [
        "## 3.2 Cleaning up data for analysis\n",
        "Got source and destination data and removed unneeded columns like geometric_mean_travel_time and geometric_standard_deviation_travel_time."
      ]
    },
    {
      "cell_type": "code",
      "metadata": {
        "colab": {
          "base_uri": "https://localhost:8080/",
          "height": 423
        },
        "id": "CMfh2cvrKmCK",
        "outputId": "9f4d74fc-c1b0-4475-8f97-46e4366681d0"
      },
      "source": [
        "id_to_dest"
      ],
      "execution_count": 27,
      "outputs": [
        {
          "output_type": "execute_result",
          "data": {
            "text/html": [
              "<div>\n",
              "<style scoped>\n",
              "    .dataframe tbody tr th:only-of-type {\n",
              "        vertical-align: middle;\n",
              "    }\n",
              "\n",
              "    .dataframe tbody tr th {\n",
              "        vertical-align: top;\n",
              "    }\n",
              "\n",
              "    .dataframe thead th {\n",
              "        text-align: right;\n",
              "    }\n",
              "</style>\n",
              "<table border=\"1\" class=\"dataframe\">\n",
              "  <thead>\n",
              "    <tr style=\"text-align: right;\">\n",
              "      <th></th>\n",
              "      <th>id</th>\n",
              "      <th>name</th>\n",
              "    </tr>\n",
              "  </thead>\n",
              "  <tbody>\n",
              "    <tr>\n",
              "      <th>0</th>\n",
              "      <td>1</td>\n",
              "      <td>York University Busway, York University Height...</td>\n",
              "    </tr>\n",
              "    <tr>\n",
              "      <th>1</th>\n",
              "      <td>2</td>\n",
              "      <td>0 Hambly Avenue, The Beach, Old Toronto, Toronto</td>\n",
              "    </tr>\n",
              "    <tr>\n",
              "      <th>2</th>\n",
              "      <td>3</td>\n",
              "      <td>3400 Kingston Road, Scarborough Village, Scarb...</td>\n",
              "    </tr>\n",
              "    <tr>\n",
              "      <th>3</th>\n",
              "      <td>4</td>\n",
              "      <td>100 Dunn Avenue, Parkdale, Old Toronto, Toronto</td>\n",
              "    </tr>\n",
              "    <tr>\n",
              "      <th>4</th>\n",
              "      <td>5</td>\n",
              "      <td>0 Carlaw Avenue, Leslieville, Old Toronto, Tor...</td>\n",
              "    </tr>\n",
              "    <tr>\n",
              "      <th>...</th>\n",
              "      <td>...</td>\n",
              "      <td>...</td>\n",
              "    </tr>\n",
              "    <tr>\n",
              "      <th>136</th>\n",
              "      <td>137</td>\n",
              "      <td>0 Treerun Avenue, Milliken, Scarborough, Toronto</td>\n",
              "    </tr>\n",
              "    <tr>\n",
              "      <th>137</th>\n",
              "      <td>138</td>\n",
              "      <td>0 Livonia Place, Morningside, Scarborough, Tor...</td>\n",
              "    </tr>\n",
              "    <tr>\n",
              "      <th>138</th>\n",
              "      <td>139</td>\n",
              "      <td>0 Rolph Road, Leaside, East York, Toronto</td>\n",
              "    </tr>\n",
              "    <tr>\n",
              "      <th>139</th>\n",
              "      <td>140</td>\n",
              "      <td>900 York Beltline Trail, Briar Hill - Belgravi...</td>\n",
              "    </tr>\n",
              "    <tr>\n",
              "      <th>140</th>\n",
              "      <td>141</td>\n",
              "      <td>Water's Edge Promenade, Downtown, Old Toronto,...</td>\n",
              "    </tr>\n",
              "  </tbody>\n",
              "</table>\n",
              "<p>141 rows × 2 columns</p>\n",
              "</div>"
            ],
            "text/plain": [
              "      id                                               name\n",
              "0      1  York University Busway, York University Height...\n",
              "1      2   0 Hambly Avenue, The Beach, Old Toronto, Toronto\n",
              "2      3  3400 Kingston Road, Scarborough Village, Scarb...\n",
              "3      4    100 Dunn Avenue, Parkdale, Old Toronto, Toronto\n",
              "4      5  0 Carlaw Avenue, Leslieville, Old Toronto, Tor...\n",
              "..   ...                                                ...\n",
              "136  137   0 Treerun Avenue, Milliken, Scarborough, Toronto\n",
              "137  138  0 Livonia Place, Morningside, Scarborough, Tor...\n",
              "138  139          0 Rolph Road, Leaside, East York, Toronto\n",
              "139  140  900 York Beltline Trail, Briar Hill - Belgravi...\n",
              "140  141  Water's Edge Promenade, Downtown, Old Toronto,...\n",
              "\n",
              "[141 rows x 2 columns]"
            ]
          },
          "metadata": {
            "tags": []
          },
          "execution_count": 27
        }
      ]
    },
    {
      "cell_type": "code",
      "metadata": {
        "colab": {
          "base_uri": "https://localhost:8080/",
          "height": 206
        },
        "id": "szCVXDoyKu5J",
        "outputId": "6d3d1a71-b9d0-41e0-dae9-4212c1f0d39d"
      },
      "source": [
        "toronto_neighbourhoods_dayly.head()"
      ],
      "execution_count": 28,
      "outputs": [
        {
          "output_type": "execute_result",
          "data": {
            "text/html": [
              "<div>\n",
              "<style scoped>\n",
              "    .dataframe tbody tr th:only-of-type {\n",
              "        vertical-align: middle;\n",
              "    }\n",
              "\n",
              "    .dataframe tbody tr th {\n",
              "        vertical-align: top;\n",
              "    }\n",
              "\n",
              "    .dataframe thead th {\n",
              "        text-align: right;\n",
              "    }\n",
              "</style>\n",
              "<table border=\"1\" class=\"dataframe\">\n",
              "  <thead>\n",
              "    <tr style=\"text-align: right;\">\n",
              "      <th></th>\n",
              "      <th>sourceid</th>\n",
              "      <th>dstid</th>\n",
              "      <th>dow</th>\n",
              "      <th>mean_travel_time</th>\n",
              "      <th>standard_deviation_travel_time</th>\n",
              "      <th>geometric_mean_travel_time</th>\n",
              "      <th>geometric_standard_deviation_travel_time</th>\n",
              "    </tr>\n",
              "  </thead>\n",
              "  <tbody>\n",
              "    <tr>\n",
              "      <th>0</th>\n",
              "      <td>129</td>\n",
              "      <td>47</td>\n",
              "      <td>2</td>\n",
              "      <td>1556.85</td>\n",
              "      <td>537.31</td>\n",
              "      <td>1476.10</td>\n",
              "      <td>1.38</td>\n",
              "    </tr>\n",
              "    <tr>\n",
              "      <th>1</th>\n",
              "      <td>80</td>\n",
              "      <td>89</td>\n",
              "      <td>2</td>\n",
              "      <td>416.18</td>\n",
              "      <td>154.30</td>\n",
              "      <td>394.96</td>\n",
              "      <td>1.37</td>\n",
              "    </tr>\n",
              "    <tr>\n",
              "      <th>2</th>\n",
              "      <td>128</td>\n",
              "      <td>86</td>\n",
              "      <td>2</td>\n",
              "      <td>132.03</td>\n",
              "      <td>85.68</td>\n",
              "      <td>107.52</td>\n",
              "      <td>2.08</td>\n",
              "    </tr>\n",
              "    <tr>\n",
              "      <th>3</th>\n",
              "      <td>129</td>\n",
              "      <td>76</td>\n",
              "      <td>2</td>\n",
              "      <td>763.53</td>\n",
              "      <td>224.10</td>\n",
              "      <td>731.70</td>\n",
              "      <td>1.35</td>\n",
              "    </tr>\n",
              "    <tr>\n",
              "      <th>4</th>\n",
              "      <td>35</td>\n",
              "      <td>77</td>\n",
              "      <td>1</td>\n",
              "      <td>1700.19</td>\n",
              "      <td>610.52</td>\n",
              "      <td>1609.98</td>\n",
              "      <td>1.37</td>\n",
              "    </tr>\n",
              "  </tbody>\n",
              "</table>\n",
              "</div>"
            ],
            "text/plain": [
              "   sourceid  ...  geometric_standard_deviation_travel_time\n",
              "0       129  ...                                      1.38\n",
              "1        80  ...                                      1.37\n",
              "2       128  ...                                      2.08\n",
              "3       129  ...                                      1.35\n",
              "4        35  ...                                      1.37\n",
              "\n",
              "[5 rows x 7 columns]"
            ]
          },
          "metadata": {
            "tags": []
          },
          "execution_count": 28
        }
      ]
    },
    {
      "cell_type": "code",
      "metadata": {
        "colab": {
          "base_uri": "https://localhost:8080/",
          "height": 293
        },
        "id": "YIj9KuGg-gF2",
        "outputId": "51ca2440-a0b0-440e-914d-c13d0992db27"
      },
      "source": [
        "time_df = pd.merge(toronto_neighbourhoods_dayly, id_to_dest, left_on=['sourceid'], right_on=['id'], how='inner')\n",
        "time_df = time_df.drop(columns=['id', 'geometric_mean_travel_time', 'geometric_standard_deviation_travel_time'])\n",
        "time_df = time_df.rename(columns={'name': 'Source Name'})\n",
        "time_df = pd.merge(time_df, id_to_dest, left_on=['dstid'], right_on=['id'], how='inner')\n",
        "time_df = time_df.drop(columns=['id'])\n",
        "time_df = time_df.rename(columns={'name': 'Destination Name'})\n",
        "time_df = time_df.sort_values(by=['sourceid', 'dstid', 'dow'])\n",
        "time_df.head(5)"
      ],
      "execution_count": 29,
      "outputs": [
        {
          "output_type": "execute_result",
          "data": {
            "text/html": [
              "<div>\n",
              "<style scoped>\n",
              "    .dataframe tbody tr th:only-of-type {\n",
              "        vertical-align: middle;\n",
              "    }\n",
              "\n",
              "    .dataframe tbody tr th {\n",
              "        vertical-align: top;\n",
              "    }\n",
              "\n",
              "    .dataframe thead th {\n",
              "        text-align: right;\n",
              "    }\n",
              "</style>\n",
              "<table border=\"1\" class=\"dataframe\">\n",
              "  <thead>\n",
              "    <tr style=\"text-align: right;\">\n",
              "      <th></th>\n",
              "      <th>sourceid</th>\n",
              "      <th>dstid</th>\n",
              "      <th>dow</th>\n",
              "      <th>mean_travel_time</th>\n",
              "      <th>standard_deviation_travel_time</th>\n",
              "      <th>Source Name</th>\n",
              "      <th>Destination Name</th>\n",
              "    </tr>\n",
              "  </thead>\n",
              "  <tbody>\n",
              "    <tr>\n",
              "      <th>110846</th>\n",
              "      <td>1</td>\n",
              "      <td>1</td>\n",
              "      <td>1</td>\n",
              "      <td>255.19</td>\n",
              "      <td>146.62</td>\n",
              "      <td>York University Busway, York University Height...</td>\n",
              "      <td>York University Busway, York University Height...</td>\n",
              "    </tr>\n",
              "    <tr>\n",
              "      <th>110850</th>\n",
              "      <td>1</td>\n",
              "      <td>1</td>\n",
              "      <td>2</td>\n",
              "      <td>247.13</td>\n",
              "      <td>134.92</td>\n",
              "      <td>York University Busway, York University Height...</td>\n",
              "      <td>York University Busway, York University Height...</td>\n",
              "    </tr>\n",
              "    <tr>\n",
              "      <th>110845</th>\n",
              "      <td>1</td>\n",
              "      <td>1</td>\n",
              "      <td>3</td>\n",
              "      <td>275.46</td>\n",
              "      <td>165.36</td>\n",
              "      <td>York University Busway, York University Height...</td>\n",
              "      <td>York University Busway, York University Height...</td>\n",
              "    </tr>\n",
              "    <tr>\n",
              "      <th>110848</th>\n",
              "      <td>1</td>\n",
              "      <td>1</td>\n",
              "      <td>4</td>\n",
              "      <td>276.60</td>\n",
              "      <td>157.16</td>\n",
              "      <td>York University Busway, York University Height...</td>\n",
              "      <td>York University Busway, York University Height...</td>\n",
              "    </tr>\n",
              "    <tr>\n",
              "      <th>110844</th>\n",
              "      <td>1</td>\n",
              "      <td>1</td>\n",
              "      <td>5</td>\n",
              "      <td>274.65</td>\n",
              "      <td>162.75</td>\n",
              "      <td>York University Busway, York University Height...</td>\n",
              "      <td>York University Busway, York University Height...</td>\n",
              "    </tr>\n",
              "  </tbody>\n",
              "</table>\n",
              "</div>"
            ],
            "text/plain": [
              "        sourceid  ...                                   Destination Name\n",
              "110846         1  ...  York University Busway, York University Height...\n",
              "110850         1  ...  York University Busway, York University Height...\n",
              "110845         1  ...  York University Busway, York University Height...\n",
              "110848         1  ...  York University Busway, York University Height...\n",
              "110844         1  ...  York University Busway, York University Height...\n",
              "\n",
              "[5 rows x 7 columns]"
            ]
          },
          "metadata": {
            "tags": []
          },
          "execution_count": 29
        }
      ]
    },
    {
      "cell_type": "code",
      "metadata": {
        "colab": {
          "base_uri": "https://localhost:8080/"
        },
        "id": "585sdCYnMuvM",
        "outputId": "029da6ea-816a-478a-fd2a-35962088f7a5"
      },
      "source": [
        "full_toronto = toronto_c.append(diversified_points, ignore_index=True)\n",
        "full_toronto.shape"
      ],
      "execution_count": 30,
      "outputs": [
        {
          "output_type": "execute_result",
          "data": {
            "text/plain": [
              "(564, 2)"
            ]
          },
          "metadata": {
            "tags": []
          },
          "execution_count": 30
        }
      ]
    },
    {
      "cell_type": "code",
      "metadata": {
        "colab": {
          "base_uri": "https://localhost:8080/",
          "height": 206
        },
        "id": "g_-tLRtGOw4O",
        "outputId": "15707d1f-fc4b-452e-f8dc-7c15cd5c6eaf"
      },
      "source": [
        "full_toronto.head()"
      ],
      "execution_count": 31,
      "outputs": [
        {
          "output_type": "execute_result",
          "data": {
            "text/html": [
              "<div>\n",
              "<style scoped>\n",
              "    .dataframe tbody tr th:only-of-type {\n",
              "        vertical-align: middle;\n",
              "    }\n",
              "\n",
              "    .dataframe tbody tr th {\n",
              "        vertical-align: top;\n",
              "    }\n",
              "\n",
              "    .dataframe thead th {\n",
              "        text-align: right;\n",
              "    }\n",
              "</style>\n",
              "<table border=\"1\" class=\"dataframe\">\n",
              "  <thead>\n",
              "    <tr style=\"text-align: right;\">\n",
              "      <th></th>\n",
              "      <th>DISPLAY_NAME</th>\n",
              "      <th>geometry</th>\n",
              "    </tr>\n",
              "  </thead>\n",
              "  <tbody>\n",
              "    <tr>\n",
              "      <th>0</th>\n",
              "      <td>York University Busway, York University Height...</td>\n",
              "      <td>POINT (-79.48888 43.76574)</td>\n",
              "    </tr>\n",
              "    <tr>\n",
              "      <th>1</th>\n",
              "      <td>0 Hambly Avenue, The Beach, Old Toronto, Toronto</td>\n",
              "      <td>POINT (-79.29960 43.67105)</td>\n",
              "    </tr>\n",
              "    <tr>\n",
              "      <th>2</th>\n",
              "      <td>3400 Kingston Road, Scarborough Village, Scarb...</td>\n",
              "      <td>POINT (-79.21681 43.73865)</td>\n",
              "    </tr>\n",
              "    <tr>\n",
              "      <th>3</th>\n",
              "      <td>100 Dunn Avenue, Parkdale, Old Toronto, Toronto</td>\n",
              "      <td>POINT (-79.43934 43.63670)</td>\n",
              "    </tr>\n",
              "    <tr>\n",
              "      <th>4</th>\n",
              "      <td>0 Carlaw Avenue, Leslieville, Old Toronto, Tor...</td>\n",
              "      <td>POINT (-79.33565 43.64929)</td>\n",
              "    </tr>\n",
              "  </tbody>\n",
              "</table>\n",
              "</div>"
            ],
            "text/plain": [
              "                                        DISPLAY_NAME                    geometry\n",
              "0  York University Busway, York University Height...  POINT (-79.48888 43.76574)\n",
              "1   0 Hambly Avenue, The Beach, Old Toronto, Toronto  POINT (-79.29960 43.67105)\n",
              "2  3400 Kingston Road, Scarborough Village, Scarb...  POINT (-79.21681 43.73865)\n",
              "3    100 Dunn Avenue, Parkdale, Old Toronto, Toronto  POINT (-79.43934 43.63670)\n",
              "4  0 Carlaw Avenue, Leslieville, Old Toronto, Tor...  POINT (-79.33565 43.64929)"
            ]
          },
          "metadata": {
            "tags": []
          },
          "execution_count": 31
        }
      ]
    },
    {
      "cell_type": "code",
      "metadata": {
        "colab": {
          "base_uri": "https://localhost:8080/"
        },
        "id": "Wpsnko8RO3B1",
        "outputId": "698042af-3462-4fa6-e49a-a6d35021f946"
      },
      "source": [
        "time_df2 = pd.merge(time_df, full_toronto, left_on=['Source Name'], right_on=['DISPLAY_NAME'], how='inner')\n",
        "time_df2 = time_df2.drop(columns=['DISPLAY_NAME'])\n",
        "time_df2 = time_df2.rename(columns = {'WARD_NAME': 'Source Ward Name', 'geometry': 'Source Geometry'})\n",
        "time_df2.shape"
      ],
      "execution_count": 32,
      "outputs": [
        {
          "output_type": "execute_result",
          "data": {
            "text/plain": [
              "(500368, 8)"
            ]
          },
          "metadata": {
            "tags": []
          },
          "execution_count": 32
        }
      ]
    },
    {
      "cell_type": "code",
      "metadata": {
        "colab": {
          "base_uri": "https://localhost:8080/",
          "height": 265
        },
        "id": "A9LnOUgLPCwI",
        "outputId": "86040453-6d5b-473b-caff-a7d85f63cdcb"
      },
      "source": [
        "time_df2 = pd.merge(time_df2, full_toronto, left_on=['Destination Name'], right_on=['DISPLAY_NAME'], how='inner')\n",
        "time_df2 = time_df2.drop(columns=['DISPLAY_NAME'])\n",
        "time_df2 = time_df2.rename(columns = {'WARD_NAME': 'Destination Ward Name', 'geometry': 'Destination Geometry'})\n",
        "time_df2.sample(3)"
      ],
      "execution_count": 33,
      "outputs": [
        {
          "output_type": "execute_result",
          "data": {
            "text/html": [
              "<div>\n",
              "<style scoped>\n",
              "    .dataframe tbody tr th:only-of-type {\n",
              "        vertical-align: middle;\n",
              "    }\n",
              "\n",
              "    .dataframe tbody tr th {\n",
              "        vertical-align: top;\n",
              "    }\n",
              "\n",
              "    .dataframe thead th {\n",
              "        text-align: right;\n",
              "    }\n",
              "</style>\n",
              "<table border=\"1\" class=\"dataframe\">\n",
              "  <thead>\n",
              "    <tr style=\"text-align: right;\">\n",
              "      <th></th>\n",
              "      <th>sourceid</th>\n",
              "      <th>dstid</th>\n",
              "      <th>dow</th>\n",
              "      <th>mean_travel_time</th>\n",
              "      <th>standard_deviation_travel_time</th>\n",
              "      <th>Source Name</th>\n",
              "      <th>Destination Name</th>\n",
              "      <th>Source Geometry</th>\n",
              "      <th>Destination Geometry</th>\n",
              "    </tr>\n",
              "  </thead>\n",
              "  <tbody>\n",
              "    <tr>\n",
              "      <th>585710</th>\n",
              "      <td>56</td>\n",
              "      <td>45</td>\n",
              "      <td>3</td>\n",
              "      <td>983.80</td>\n",
              "      <td>469.64</td>\n",
              "      <td>5300 Dundas Street West, Islington - City Cent...</td>\n",
              "      <td>0 Apex Road, Yorkdale, North York, Toronto</td>\n",
              "      <td>POINT (-79.54257 43.64880)</td>\n",
              "      <td>POINT (-79.44986 43.71549)</td>\n",
              "    </tr>\n",
              "    <tr>\n",
              "      <th>628796</th>\n",
              "      <td>58</td>\n",
              "      <td>48</td>\n",
              "      <td>2</td>\n",
              "      <td>1274.25</td>\n",
              "      <td>794.01</td>\n",
              "      <td>0 Habitant Drive, Emery, North York, Toronto</td>\n",
              "      <td>0 Grenoble Drive, Flemingdon Park, North York,...</td>\n",
              "      <td>POINT (-79.54468 43.73645)</td>\n",
              "      <td>POINT (-79.33265 43.71593)</td>\n",
              "    </tr>\n",
              "    <tr>\n",
              "      <th>569798</th>\n",
              "      <td>54</td>\n",
              "      <td>44</td>\n",
              "      <td>2</td>\n",
              "      <td>1249.40</td>\n",
              "      <td>518.14</td>\n",
              "      <td>500 Mortimer Avenue, Woodbine Heights, East Yo...</td>\n",
              "      <td>200 Johnston Avenue, Lansing, North York, Toronto</td>\n",
              "      <td>POINT (-79.34163 43.69077)</td>\n",
              "      <td>POINT (-79.43248 43.75248)</td>\n",
              "    </tr>\n",
              "  </tbody>\n",
              "</table>\n",
              "</div>"
            ],
            "text/plain": [
              "        sourceid  dstid  ...             Source Geometry        Destination Geometry\n",
              "585710        56     45  ...  POINT (-79.54257 43.64880)  POINT (-79.44986 43.71549)\n",
              "628796        58     48  ...  POINT (-79.54468 43.73645)  POINT (-79.33265 43.71593)\n",
              "569798        54     44  ...  POINT (-79.34163 43.69077)  POINT (-79.43248 43.75248)\n",
              "\n",
              "[3 rows x 9 columns]"
            ]
          },
          "metadata": {
            "tags": []
          },
          "execution_count": 33
        }
      ]
    },
    {
      "cell_type": "code",
      "metadata": {
        "colab": {
          "base_uri": "https://localhost:8080/"
        },
        "id": "Keeogu6qPI1L",
        "outputId": "6e73d98a-7a9b-4fc0-e074-deba2f0d2f98"
      },
      "source": [
        "time_df2.shape"
      ],
      "execution_count": 34,
      "outputs": [
        {
          "output_type": "execute_result",
          "data": {
            "text/plain": [
              "(2001472, 9)"
            ]
          },
          "metadata": {
            "tags": []
          },
          "execution_count": 34
        }
      ]
    },
    {
      "cell_type": "code",
      "metadata": {
        "id": "ez5zUFHxdmK8"
      },
      "source": [
        "import pickle\n",
        "def save_object(obj, filename):\n",
        "    with open(filename, 'wb') as output:  # Overwrites any existing file.\n",
        "        pickle.dump(obj, output, pickle.HIGHEST_PROTOCOL)\n",
        "\n",
        "import os.path\n",
        "def file_exists(filename):\n",
        "    return os.path.exists(filename)\n",
        "\n",
        "output_path = '/content/drive/MyDrive/SupervisedLearningScriptandMaterial/toronto/Output2/'"
      ],
      "execution_count": 35,
      "outputs": []
    },
    {
      "cell_type": "code",
      "metadata": {
        "colab": {
          "base_uri": "https://localhost:8080/"
        },
        "id": "5sJCnRNygdrF",
        "outputId": "516420f4-d36a-48ab-daf5-bece5cf491fd"
      },
      "source": [
        "import geopy.distance\n",
        "\n",
        "def calc_distance(x):\n",
        "    src_point = (x['Source Geometry'].y, x['Source Geometry'].x)\n",
        "    dest_point = (x['Destination Geometry'].y, x['Destination Geometry'].x)\n",
        "    return geopy.distance.geodesic(src_point, dest_point).kilometers\n",
        "\n",
        "filename = 'Df_for_modelling.bin'\n",
        "path = output_path + filename\n",
        "\n",
        "if file_exists(path):\n",
        "    # skip to next section since the results here are already precalculated\n",
        "    pass\n",
        "else:\n",
        "    print('Creating distance file')\n",
        "    time_df2['Geodesic Distance'] = time_df2.apply(func = calc_distance, axis=1)\n",
        "    df = time_df2"
      ],
      "execution_count": 36,
      "outputs": [
        {
          "output_type": "stream",
          "text": [
            "Creating distance file\n"
          ],
          "name": "stdout"
        }
      ]
    },
    {
      "cell_type": "code",
      "metadata": {
        "colab": {
          "base_uri": "https://localhost:8080/"
        },
        "id": "DuE4o5l1gl7E",
        "outputId": "a6c40c93-19d1-4ee7-95e6-6c5757bee470"
      },
      "source": [
        "filename = 'Df_for_modelling.bin'\n",
        "path = output_path + filename\n",
        "if file_exists(path):\n",
        "    with open(path, 'rb') as file:\n",
        "        final_df = pickle.load(file)\n",
        "else:\n",
        "    print('Creating final df file')\n",
        "    final_df = df.copy()\n",
        "    final_df['Source lat'] = final_df['Source Geometry'].apply(lambda pt: float(pt.y))\n",
        "    final_df['Source long'] = final_df['Source Geometry'].apply(lambda pt: float(pt.x))\n",
        "    final_df['Dest lat'] = final_df['Destination Geometry'].apply(lambda pt: float(pt.y))\n",
        "    final_df['Dest long'] = final_df['Destination Geometry'].apply(lambda pt: float(pt.x))\n",
        "\n",
        "    \n",
        "features = ['Source lat', 'Source long', 'Dest lat', 'Dest long', 'dow', 'Geodesic Distance']\n",
        "outcome = ['mean_travel_time']\n",
        "final_df = final_df[features + outcome]\n",
        "\n",
        "try:\n",
        "    save_object(final_df, filename)\n",
        "except:\n",
        "    pass\n",
        "  "
      ],
      "execution_count": 37,
      "outputs": [
        {
          "output_type": "stream",
          "text": [
            "Creating final df file\n"
          ],
          "name": "stdout"
        }
      ]
    },
    {
      "cell_type": "code",
      "metadata": {
        "colab": {
          "base_uri": "https://localhost:8080/"
        },
        "id": "SLgfVYlokkTA",
        "outputId": "4a51db68-b5fb-405d-81aa-99198071c7a2"
      },
      "source": [
        "final_df.shape"
      ],
      "execution_count": 38,
      "outputs": [
        {
          "output_type": "execute_result",
          "data": {
            "text/plain": [
              "(2001472, 7)"
            ]
          },
          "metadata": {
            "tags": []
          },
          "execution_count": 38
        }
      ]
    },
    {
      "cell_type": "code",
      "metadata": {
        "colab": {
          "base_uri": "https://localhost:8080/",
          "height": 300
        },
        "id": "LxBGXkwgruXg",
        "outputId": "e2239946-0985-4369-de2e-697af5f4eee5"
      },
      "source": [
        "final_df.head(8)"
      ],
      "execution_count": 39,
      "outputs": [
        {
          "output_type": "execute_result",
          "data": {
            "text/html": [
              "<div>\n",
              "<style scoped>\n",
              "    .dataframe tbody tr th:only-of-type {\n",
              "        vertical-align: middle;\n",
              "    }\n",
              "\n",
              "    .dataframe tbody tr th {\n",
              "        vertical-align: top;\n",
              "    }\n",
              "\n",
              "    .dataframe thead th {\n",
              "        text-align: right;\n",
              "    }\n",
              "</style>\n",
              "<table border=\"1\" class=\"dataframe\">\n",
              "  <thead>\n",
              "    <tr style=\"text-align: right;\">\n",
              "      <th></th>\n",
              "      <th>Source lat</th>\n",
              "      <th>Source long</th>\n",
              "      <th>Dest lat</th>\n",
              "      <th>Dest long</th>\n",
              "      <th>dow</th>\n",
              "      <th>Geodesic Distance</th>\n",
              "      <th>mean_travel_time</th>\n",
              "    </tr>\n",
              "  </thead>\n",
              "  <tbody>\n",
              "    <tr>\n",
              "      <th>0</th>\n",
              "      <td>43.765737</td>\n",
              "      <td>-79.488883</td>\n",
              "      <td>43.765737</td>\n",
              "      <td>-79.488883</td>\n",
              "      <td>1</td>\n",
              "      <td>0.000000</td>\n",
              "      <td>255.19</td>\n",
              "    </tr>\n",
              "    <tr>\n",
              "      <th>1</th>\n",
              "      <td>43.765737</td>\n",
              "      <td>-79.488883</td>\n",
              "      <td>43.753307</td>\n",
              "      <td>-79.498861</td>\n",
              "      <td>1</td>\n",
              "      <td>1.597879</td>\n",
              "      <td>255.19</td>\n",
              "    </tr>\n",
              "    <tr>\n",
              "      <th>2</th>\n",
              "      <td>43.765737</td>\n",
              "      <td>-79.488883</td>\n",
              "      <td>43.757189</td>\n",
              "      <td>-79.490702</td>\n",
              "      <td>1</td>\n",
              "      <td>0.960981</td>\n",
              "      <td>255.19</td>\n",
              "    </tr>\n",
              "    <tr>\n",
              "      <th>3</th>\n",
              "      <td>43.765737</td>\n",
              "      <td>-79.488883</td>\n",
              "      <td>43.768707</td>\n",
              "      <td>-79.472995</td>\n",
              "      <td>1</td>\n",
              "      <td>1.321123</td>\n",
              "      <td>255.19</td>\n",
              "    </tr>\n",
              "    <tr>\n",
              "      <th>4</th>\n",
              "      <td>43.753307</td>\n",
              "      <td>-79.498861</td>\n",
              "      <td>43.765737</td>\n",
              "      <td>-79.488883</td>\n",
              "      <td>1</td>\n",
              "      <td>1.597879</td>\n",
              "      <td>255.19</td>\n",
              "    </tr>\n",
              "    <tr>\n",
              "      <th>5</th>\n",
              "      <td>43.753307</td>\n",
              "      <td>-79.498861</td>\n",
              "      <td>43.753307</td>\n",
              "      <td>-79.498861</td>\n",
              "      <td>1</td>\n",
              "      <td>0.000000</td>\n",
              "      <td>255.19</td>\n",
              "    </tr>\n",
              "    <tr>\n",
              "      <th>6</th>\n",
              "      <td>43.753307</td>\n",
              "      <td>-79.498861</td>\n",
              "      <td>43.757189</td>\n",
              "      <td>-79.490702</td>\n",
              "      <td>1</td>\n",
              "      <td>0.786042</td>\n",
              "      <td>255.19</td>\n",
              "    </tr>\n",
              "    <tr>\n",
              "      <th>7</th>\n",
              "      <td>43.753307</td>\n",
              "      <td>-79.498861</td>\n",
              "      <td>43.768707</td>\n",
              "      <td>-79.472995</td>\n",
              "      <td>1</td>\n",
              "      <td>2.695593</td>\n",
              "      <td>255.19</td>\n",
              "    </tr>\n",
              "  </tbody>\n",
              "</table>\n",
              "</div>"
            ],
            "text/plain": [
              "   Source lat  Source long   Dest lat  ...  dow  Geodesic Distance  mean_travel_time\n",
              "0   43.765737   -79.488883  43.765737  ...    1           0.000000            255.19\n",
              "1   43.765737   -79.488883  43.753307  ...    1           1.597879            255.19\n",
              "2   43.765737   -79.488883  43.757189  ...    1           0.960981            255.19\n",
              "3   43.765737   -79.488883  43.768707  ...    1           1.321123            255.19\n",
              "4   43.753307   -79.498861  43.765737  ...    1           1.597879            255.19\n",
              "5   43.753307   -79.498861  43.753307  ...    1           0.000000            255.19\n",
              "6   43.753307   -79.498861  43.757189  ...    1           0.786042            255.19\n",
              "7   43.753307   -79.498861  43.768707  ...    1           2.695593            255.19\n",
              "\n",
              "[8 rows x 7 columns]"
            ]
          },
          "metadata": {
            "tags": []
          },
          "execution_count": 39
        }
      ]
    },
    {
      "cell_type": "markdown",
      "metadata": {
        "id": "907vcjsVlqVS"
      },
      "source": [
        "# 4.Modeling\n",
        "Model without eval set"
      ]
    },
    {
      "cell_type": "code",
      "metadata": {
        "id": "7DObAClSljWG"
      },
      "source": [
        "X = final_df[features]\n",
        "y = final_df[outcome]\n",
        "\n",
        "from sklearn.model_selection import train_test_split\n",
        "X_train, X_test, y_train, y_test = train_test_split(X, y, test_size=0.3, random_state=5)"
      ],
      "execution_count": 40,
      "outputs": []
    },
    {
      "cell_type": "markdown",
      "metadata": {
        "id": "LH3GV6MSrKb2"
      },
      "source": [
        "## 4.1 Random Forest Regressor"
      ]
    },
    {
      "cell_type": "code",
      "metadata": {
        "colab": {
          "background_save": true,
          "base_uri": "https://localhost:8080/"
        },
        "id": "hnyL8q26rJmz",
        "outputId": "e8e095b0-311b-4381-ac92-8cc43176fe45"
      },
      "source": [
        "from sklearn.ensemble import RandomForestRegressor\n",
        "filename = 'RF_model_5.bin'\n",
        "path = output_path + filename\n",
        "if file_exists(path):\n",
        "    with open(path, 'rb') as file:\n",
        "        my_model = pickle.load(file)\n",
        "else:\n",
        "    my_model = xgb.XGBRegressor(n_estimators= 200, min_samples_leaf=1, max_features= 0.8, max_depth= 20)\n",
        "    my_model.fit(X_train, y_train,verbose=False)\n",
        "    \n",
        "try:    \n",
        "    save_object(X_train, output_path + 'train_set_x.bin')\n",
        "    save_object(y_train, output_path + 'train_set_y.bin')\n",
        "    save_object(X_test, output_path + 'test_set_x.bin')\n",
        "    save_object(y_test, output_path + 'test_set_y.bin')\n",
        "    save_object(my_model, output_path + filename)\n",
        "except:\n",
        "    pass"
      ],
      "execution_count": null,
      "outputs": [
        {
          "output_type": "stream",
          "text": [
            "[08:24:16] WARNING: /workspace/src/objective/regression_obj.cu:152: reg:linear is now deprecated in favor of reg:squarederror.\n"
          ],
          "name": "stdout"
        }
      ]
    },
    {
      "cell_type": "markdown",
      "metadata": {
        "id": "5hqLGG88os_X"
      },
      "source": [
        "Metrics Calculation"
      ]
    },
    {
      "cell_type": "code",
      "metadata": {
        "colab": {
          "background_save": true
        },
        "id": "NGvnPSl5yxcf",
        "outputId": "8218afe8-2e92-4631-c725-a870749c1ec7"
      },
      "source": [
        "predictions = my_model.predict(X_test)\n",
        "\n",
        "from sklearn import metrics\n",
        "\n",
        "r2 = metrics.r2_score(y_test, predictions)\n",
        "print('R2: {}\\n'.format(r2))\n",
        "\n",
        "mse = metrics.mean_squared_error(y_test, predictions)\n",
        "print('MSE: {}\\n'.format(mse))\n",
        "\n",
        "print('RMSE: {}\\n'.format(np.sqrt(mse)))\n",
        "\n",
        "mae = metrics.mean_absolute_error(y_test, predictions)\n",
        "print('MAE: {}\\n'.format(mae))"
      ],
      "execution_count": null,
      "outputs": [
        {
          "output_type": "stream",
          "text": [
            "R2: 0.9962675173602626\n",
            "\n",
            "MSE: 1020.3194282169444\n",
            "\n",
            "RMSE: 31.942439296599506\n",
            "\n",
            "MAE: 21.356577115632376\n",
            "\n"
          ],
          "name": "stdout"
        }
      ]
    },
    {
      "cell_type": "code",
      "metadata": {
        "colab": {
          "background_save": true
        },
        "id": "wO4q6ch95D1K",
        "outputId": "6bf84e57-7710-4232-aeb9-550d94a7b23d"
      },
      "source": [
        "x_ax = range(len(y_test))\n",
        "plot.plot(x_ax, y_test, label=\"actual\")\n",
        "plot.plot(x_ax, predictions, label=\"predicted\")\n",
        "\n",
        "plot.title(\"Mean travel times actual and predicted data\")\n",
        "\n",
        "plot.legend()\n",
        "plot.show()"
      ],
      "execution_count": null,
      "outputs": [
        {
          "output_type": "display_data",
          "data": {
            "image/png": "[encoded data removed]",
            "text/plain": [
              "<Figure size 432x288 with 1 Axes>"
            ]
          },
          "metadata": {
            "tags": []
          }
        }
      ]
    },
    {
      "cell_type": "code",
      "metadata": {
        "colab": {
          "background_save": true
        },
        "id": "8xvtNCGT6pWJ",
        "outputId": "42351bc1-2f87-44a6-d5b3-bd76f16ea147"
      },
      "source": [
        "fig, ax = plot.subplots()\n",
        "ax.scatter(y_test, predictions)\n",
        "ax.plot([y_test.min(), y_test.max()], [y_test.min(), y_test.max()], 'k--', lw=4)\n",
        "ax.set_xlabel('Measured Time')\n",
        "ax.set_ylabel('Predicted Time')\n",
        "plot.show()"
      ],
      "execution_count": null,
      "outputs": [
        {
          "output_type": "display_data",
          "data": {
            "image/png": "[encoded data removed]",
            "text/plain": [
              "<Figure size 432x288 with 1 Axes>"
            ]
          },
          "metadata": {
            "tags": []
          }
        }
      ]
    },
    {
      "cell_type": "markdown",
      "metadata": {
        "id": "zi31KhzO7Vf1"
      },
      "source": [
        "## 4.1.1 Live Testing"
      ]
    },
    {
      "cell_type": "code",
      "metadata": {
        "colab": {
          "background_save": true
        },
        "id": "F5Q14fHs7TIN"
      },
      "source": [
        "features = ['Source lat', 'Source long', 'Dest lat', 'Dest long', 'dow', 'Geodesic Distance']\n",
        "outcome = ['mean_travel_time']\n",
        "\n",
        "def get_distance(lat1, long1, lat2, long2):\n",
        "    src_point = (lat1, long1)\n",
        "    dest_point = (lat2, long2)\n",
        "    return geopy.distance.geodesic(src_point, dest_point).kilometers\n",
        "\n",
        "def prepare_df(lat1, long1, lat2, long2, hod):\n",
        "    distance = get_distance(lat1, long1, lat2, long2)\n",
        "    return pd.DataFrame(columns = ['Source lat', 'Source long', 'Dest lat', 'Dest long', 'dow', 'Geodesic Distance'],\n",
        "                 data = [[lat1, long1, lat2, long2, dow, distance]])\n",
        "    \n",
        "def predict(df):\n",
        "    return my_model.predict(df[features])"
      ],
      "execution_count": null,
      "outputs": []
    },
    {
      "cell_type": "code",
      "metadata": {
        "colab": {
          "background_save": true
        },
        "id": "5Q7aTVH_7HSa",
        "outputId": "8fb42389-acce-4c64-bbed-5c845ba32a5d"
      },
      "source": [
        "lat1 = 13.002385\n",
        "long1 = 77.568491\n",
        "lat2 = 13.061071\n",
        "long2 = 77.597371\n",
        "dow = 10\n",
        "\n",
        "df = prepare_df(lat1, long1, lat2, long2, dow)\n",
        "predict(df)"
      ],
      "execution_count": null,
      "outputs": [
        {
          "output_type": "execute_result",
          "data": {
            "text/plain": [
              "array([580.499], dtype=float32)"
            ]
          },
          "metadata": {
            "tags": []
          },
          "execution_count": 0
        }
      ]
    },
    {
      "cell_type": "markdown",
      "metadata": {
        "id": "k4gD1-T929Wp"
      },
      "source": [
        "## 4.2 XGBOOST Regressor"
      ]
    },
    {
      "cell_type": "code",
      "metadata": {
        "colab": {
          "background_save": true
        },
        "id": "cGP2TBeW28rz"
      },
      "source": [
        ""
      ],
      "execution_count": null,
      "outputs": []
    },
    {
      "cell_type": "code",
      "metadata": {
        "colab": {
          "background_save": true
        },
        "id": "wbY6X_DL0RmT",
        "outputId": "59be2708-1bea-49cd-9b6f-7aa7e227ad91"
      },
      "source": [
        "from xgboost import XGBRegressor\n",
        "from sklearn.ensemble import RandomForestRegressor\n",
        "filename = 'XGB_model_1.bin'\n",
        "path = output_path + filename\n",
        "if file_exists(path):\n",
        "    with open(path, 'rb') as file:\n",
        "        my_model = pickle.load(file)\n",
        "else:\n",
        "    my_model_3 = xgb.XGBRegressor(colsample_bytree= 0.4609118417511593, learning_rate= 0.13147737226053333, max_depth= 9, n_estimators= 107, reg_alpha= 0.36568523340889936, reg_lambda= 0.0024257956486115864, subsample= 0.775773831943148)\n",
        "    my_model_3.fit(X_train, y_train,verbose=False)\n",
        "    \n",
        "try:    \n",
        "    save_object(X_train, output_path + 'train_set_x.bin')\n",
        "    save_object(y_train, output_path + 'train_set_y.bin')\n",
        "    save_object(X_test, output_path + 'test_set_x.bin')\n",
        "    save_object(y_test, output_path + 'test_set_y.bin')\n",
        "    save_object(my_model, output_path + filename)\n",
        "except:\n",
        "    pass"
      ],
      "execution_count": null,
      "outputs": [
        {
          "output_type": "stream",
          "text": [
            "[08:41:45] WARNING: /workspace/src/objective/regression_obj.cu:152: reg:linear is now deprecated in favor of reg:squarederror.\n"
          ],
          "name": "stdout"
        }
      ]
    },
    {
      "cell_type": "markdown",
      "metadata": {
        "id": "aNGg_VwsopLJ"
      },
      "source": [
        "Metrics Calculation"
      ]
    },
    {
      "cell_type": "code",
      "metadata": {
        "colab": {
          "base_uri": "https://localhost:8080/"
        },
        "id": "j-ol7jSQ3B8U",
        "outputId": "8c378e43-5473-4a49-ce03-54170a131126"
      },
      "source": [
        "predictions_1 = my_model_3.predict(X_test)\n",
        "\n",
        "from sklearn import metrics\n",
        "\n",
        "r2 = metrics.r2_score(y_test, predictions_1)\n",
        "print('R2: {}\\n'.format(r2))\n",
        "\n",
        "mse = metrics.mean_squared_error(y_test, predictions_1)\n",
        "print('MSE: {}\\n'.format(mse))\n",
        "\n",
        "print('RMSE: {}\\n'.format(np.sqrt(mse)))\n",
        "\n",
        "mae = metrics.mean_absolute_error(y_test, predictions_1)\n",
        "print('MAE: {}\\n'.format(mae))"
      ],
      "execution_count": null,
      "outputs": [
        {
          "output_type": "stream",
          "text": [
            "R2: 0.8985488993776289\n",
            "\n",
            "MSE: 27732.889599261613\n",
            "\n",
            "RMSE: 166.5319476835049\n",
            "\n",
            "MAE: 130.12750651423877\n",
            "\n"
          ],
          "name": "stdout"
        }
      ]
    },
    {
      "cell_type": "code",
      "metadata": {
        "colab": {
          "base_uri": "https://localhost:8080/",
          "height": 281
        },
        "id": "qtXD2MYE44Yr",
        "outputId": "85c27138-33b6-409e-bd80-7b4c54d2adf9"
      },
      "source": [
        "x_ax = range(len(y_test))\n",
        "plot.plot(x_ax, y_test, label=\"actual\")\n",
        "plot.plot(x_ax, predictions_1, label=\"predicted\")\n",
        "\n",
        "plot.title(\"Mean travel times actual and predicted data\")\n",
        "\n",
        "plot.legend()\n",
        "plot.show()"
      ],
      "execution_count": null,
      "outputs": [
        {
          "output_type": "display_data",
          "data": {
            "image/png": "[encoded data removed]",
            "text/plain": [
              "<Figure size 432x288 with 1 Axes>"
            ]
          },
          "metadata": {
            "tags": [],
            "needs_background": "light"
          }
        }
      ]
    },
    {
      "cell_type": "code",
      "metadata": {
        "colab": {
          "background_save": true
        },
        "id": "0bw2nFAn6wed",
        "outputId": "243bb199-b210-49d2-cbfd-7f2a974cbabc"
      },
      "source": [
        "fig, ax = plot.subplots()\n",
        "ax.scatter(y_test, predictions_1)\n",
        "ax.plot([y_test.min(), y_test.max()], [y_test.min(), y_test.max()], 'k--', lw=4)\n",
        "ax.set_xlabel('Measured Time')\n",
        "ax.set_ylabel('Predicted Time')\n",
        "plot.show()"
      ],
      "execution_count": null,
      "outputs": [
        {
          "output_type": "display_data",
          "data": {
            "image/png": "[encoded data removed]",
            "text/plain": [
              "<Figure size 432x288 with 1 Axes>"
            ]
          },
          "metadata": {
            "tags": []
          }
        }
      ]
    },
    {
      "cell_type": "markdown",
      "metadata": {
        "id": "AGI9xubr8f8l"
      },
      "source": [
        "### 4.2.1 Live Testing"
      ]
    },
    {
      "cell_type": "code",
      "metadata": {
        "colab": {
          "background_save": true
        },
        "id": "JEWsrK5d8Ej5"
      },
      "source": [
        "features = ['Source lat', 'Source long', 'Dest lat', 'Dest long', 'dow', 'Geodesic Distance']\n",
        "outcome = ['mean_travel_time']\n",
        "\n",
        "def get_distance(lat1, long1, lat2, long2):\n",
        "    src_point = (lat1, long1)\n",
        "    dest_point = (lat2, long2)\n",
        "    return geopy.distance.geodesic(src_point, dest_point).kilometers\n",
        "\n",
        "def prepare_df(lat1, long1, lat2, long2, hod):\n",
        "    distance = get_distance(lat1, long1, lat2, long2)\n",
        "    return pd.DataFrame(columns = ['Source lat', 'Source long', 'Dest lat', 'Dest long', 'dow', 'Geodesic Distance'],\n",
        "                 data = [[lat1, long1, lat2, long2, dow, distance]])\n",
        "    \n",
        "def predict(df):\n",
        "    return my_model_3.predict(df[features])"
      ],
      "execution_count": null,
      "outputs": []
    },
    {
      "cell_type": "code",
      "metadata": {
        "colab": {
          "base_uri": "https://localhost:8080/"
        },
        "id": "BRXlQOOU8SA4",
        "outputId": "d46c17dc-a44b-4898-fe58-c8d6fde92240"
      },
      "source": [
        "lat1 = 13.002385\n",
        "long1 = 77.568491\n",
        "lat2 = 13.061071\n",
        "long2 = 77.597371\n",
        "dow = 10\n",
        "\n",
        "df = prepare_df(lat1, long1, lat2, long2, dow)\n",
        "predict(df)"
      ],
      "execution_count": null,
      "outputs": [
        {
          "output_type": "execute_result",
          "data": {
            "text/plain": [
              "array([977.40283], dtype=float32)"
            ]
          },
          "metadata": {
            "tags": []
          },
          "execution_count": 53
        }
      ]
    },
    {
      "cell_type": "markdown",
      "metadata": {
        "id": "B2SKpdTc8nST"
      },
      "source": [
        "## 4.3 GradientBoosting Regressor"
      ]
    },
    {
      "cell_type": "code",
      "metadata": {
        "colab": {
          "base_uri": "https://localhost:8080/"
        },
        "id": "Ki-8qqq9x9ro",
        "outputId": "62c6ab28-1dd1-4957-fae2-f0f8d599cef3"
      },
      "source": [
        "from sklearn.ensemble import GradientBoostingRegressor\n",
        "filename = 'GradBoost_model_2.bin'\n",
        "path = output_path + filename\n",
        "if file_exists(path):\n",
        "    with open(path, 'rb') as file:\n",
        "        my_model = pickle.load(file)\n",
        "else:\n",
        "    \n",
        "    my_model_6 = reg = GradientBoostingRegressor(max_depth=9, learning_rate=0.05, random_state=0)\n",
        "    my_model_6.fit(X_train, y_train)\n",
        "    \n",
        "try:    \n",
        "    save_object(X_train, output_path + 'train_set_x.bin')\n",
        "    save_object(y_train, output_path + 'train_set_y.bin')\n",
        "    save_object(X_test, output_path + 'test_set_x.bin')\n",
        "    save_object(y_test, output_path + 'test_set_y.bin')\n",
        "    save_object(my_model, output_path + filename)\n",
        "except:\n",
        "    pass"
      ],
      "execution_count": null,
      "outputs": [
        {
          "output_type": "stream",
          "text": [
            "/usr/local/lib/python3.7/dist-packages/sklearn/ensemble/_gb.py:1454: DataConversionWarning: A column-vector y was passed when a 1d array was expected. Please change the shape of y to (n_samples, ), for example using ravel().\n",
            "  y = column_or_1d(y, warn=True)\n"
          ],
          "name": "stderr"
        }
      ]
    },
    {
      "cell_type": "markdown",
      "metadata": {
        "id": "oBdWOqnUoVCE"
      },
      "source": [
        "Metrics Calculation"
      ]
    },
    {
      "cell_type": "code",
      "metadata": {
        "colab": {
          "base_uri": "https://localhost:8080/"
        },
        "id": "FOIzsn8vyoGw",
        "outputId": "7185b324-c5e5-4131-ae78-d2e5017fabe5"
      },
      "source": [
        "predictions_grad2 = my_model_6.predict(X_test)\n",
        "\n",
        "from sklearn import metrics\n",
        "\n",
        "r2 = metrics.r2_score(y_test, predictions_grad2)\n",
        "print('R2: {}\\n'.format(r2))\n",
        "\n",
        "mse = metrics.mean_squared_error(y_test, predictions_grad2)\n",
        "print('MSE: {}\\n'.format(mse))\n",
        "\n",
        "print('RMSE: {}\\n'.format(np.sqrt(mse)))\n",
        "\n",
        "mae = metrics.mean_absolute_error(y_test, predictions_grad2)\n",
        "print('MAE: {}\\n'.format(mae))"
      ],
      "execution_count": null,
      "outputs": [
        {
          "output_type": "stream",
          "text": [
            "R2: 0.907810682922815\n",
            "\n",
            "MSE: 25201.06866311434\n",
            "\n",
            "RMSE: 158.7484446006144\n",
            "\n",
            "MAE: 123.18899803404385\n",
            "\n"
          ],
          "name": "stdout"
        }
      ]
    },
    {
      "cell_type": "code",
      "metadata": {
        "colab": {
          "base_uri": "https://localhost:8080/",
          "height": 281
        },
        "id": "g-yvdq5Y18Sl",
        "outputId": "b15a0932-f041-4066-e17f-4a2e520f240e"
      },
      "source": [
        "x_ax = range(len(y_test))\n",
        "plot.plot(x_ax, y_test, label=\"actual\")\n",
        "plot.plot(x_ax, predictions_grad2, label=\"predicted\")\n",
        "\n",
        "plot.title(\"Mean travel times actual and predicted data\")\n",
        "\n",
        "plot.legend()\n",
        "plot.show()"
      ],
      "execution_count": null,
      "outputs": [
        {
          "output_type": "display_data",
          "data": {
            "image/png": "[encoded data removed]",
            "text/plain": [
              "<Figure size 432x288 with 1 Axes>"
            ]
          },
          "metadata": {
            "tags": [],
            "needs_background": "light"
          }
        }
      ]
    },
    {
      "cell_type": "code",
      "metadata": {
        "colab": {
          "base_uri": "https://localhost:8080/",
          "height": 279
        },
        "id": "zZwVMsg-8-4a",
        "outputId": "9e78f65f-80c9-4e20-d4a4-fd8fb1b5b26f"
      },
      "source": [
        "fig, ax = plot.subplots()\n",
        "ax.scatter(y_test, predictions_grad2)\n",
        "ax.plot([y_test.min(), y_test.max()], [y_test.min(), y_test.max()], 'k--', lw=4)\n",
        "ax.set_xlabel('Measured Time')\n",
        "ax.set_ylabel('Predicted Time')\n",
        "plot.show()"
      ],
      "execution_count": null,
      "outputs": [
        {
          "output_type": "display_data",
          "data": {
            "image/png": "[encoded data removed]",
            "text/plain": [
              "<Figure size 432x288 with 1 Axes>"
            ]
          },
          "metadata": {
            "tags": [],
            "needs_background": "light"
          }
        }
      ]
    },
    {
      "cell_type": "markdown",
      "metadata": {
        "id": "Vcvirab0_lS4"
      },
      "source": [
        "### 4.3.1 Live Testing"
      ]
    },
    {
      "cell_type": "code",
      "metadata": {
        "id": "ecxUC30J9SQ6"
      },
      "source": [
        "features = ['Source lat', 'Source long', 'Dest lat', 'Dest long', 'dow', 'Geodesic Distance']\n",
        "outcome = ['mean_travel_time']\n",
        "\n",
        "def get_distance(lat1, long1, lat2, long2):\n",
        "    src_point = (lat1, long1)\n",
        "    dest_point = (lat2, long2)\n",
        "    return geopy.distance.geodesic(src_point, dest_point).kilometers\n",
        "\n",
        "def prepare_df(lat1, long1, lat2, long2, hod):\n",
        "    distance = get_distance(lat1, long1, lat2, long2)\n",
        "    return pd.DataFrame(columns = ['Source lat', 'Source long', 'Dest lat', 'Dest long', 'dow', 'Geodesic Distance'],\n",
        "                 data = [[lat1, long1, lat2, long2, dow, distance]])\n",
        "    \n",
        "def predict(df):\n",
        "    return my_model_6.predict(df[features])"
      ],
      "execution_count": null,
      "outputs": []
    },
    {
      "cell_type": "code",
      "metadata": {
        "colab": {
          "base_uri": "https://localhost:8080/"
        },
        "id": "s8yPJ9h-9nz9",
        "outputId": "33948d33-c351-4b09-9217-44061b5f4f8e"
      },
      "source": [
        "lat1 = 13.002385\n",
        "long1 = 77.568491\n",
        "lat2 = 13.061071\n",
        "long2 = 77.597371\n",
        "dow = 10\n",
        "\n",
        "df = prepare_df(lat1, long1, lat2, long2, dow)\n",
        "predict(df)"
      ],
      "execution_count": null,
      "outputs": [
        {
          "output_type": "execute_result",
          "data": {
            "text/plain": [
              "array([371.33895423])"
            ]
          },
          "metadata": {
            "tags": []
          },
          "execution_count": 76
        }
      ]
    },
    {
      "cell_type": "markdown",
      "metadata": {
        "id": "7nGTO6TjnkwT"
      },
      "source": [
        "##4.4 K-Nearest Neighbor (KNN) Regressor"
      ]
    },
    {
      "cell_type": "code",
      "metadata": {
        "id": "jgTYAWzqnu3t"
      },
      "source": [
        "from sklearn.neighbors import KNeighborsRegressor as knn\n",
        "\n",
        "filename = 'knn_model.bin'\n",
        "path = output_path + filename\n",
        "\n",
        "if file_exists(path):\n",
        "    with open(path, 'rb') as file:\n",
        "        my_model_knn = pickle.load(file)\n",
        "else:\n",
        "    my_model_knn = knn(n_neighbors=7, leaf_size=30, weights='distance',p=1)\n",
        "    my_model_knn.fit(X_train, y_train)\n",
        "    \n",
        "try:    \n",
        "    save_object(X_train, output_path + 'train_set_x.bin')\n",
        "    save_object(y_train, output_path + 'train_set_y.bin')\n",
        "    save_object(X_test, output_path + 'test_set_x.bin')\n",
        "    save_object(y_test, output_path + 'test_set_y.bin')\n",
        "    save_object(my_model_knn, output_path + filename)\n",
        "except:\n",
        "    pass"
      ],
      "execution_count": 41,
      "outputs": []
    },
    {
      "cell_type": "markdown",
      "metadata": {
        "id": "EFTiwT5Do1Po"
      },
      "source": [
        "Metrics Calculation"
      ]
    },
    {
      "cell_type": "code",
      "metadata": {
        "id": "rQc17lbto0Zx",
        "colab": {
          "base_uri": "https://localhost:8080/"
        },
        "outputId": "5d2e2531-5cb7-4c3f-d791-22cf95e4f03b"
      },
      "source": [
        "predictions_knn = my_model_knn.predict(X_test)\n",
        "\n",
        "from sklearn import metrics\n",
        "\n",
        "r2 = metrics.r2_score(y_test, predictions_knn)\n",
        "print('R2: {}\\n'.format(r2))\n",
        "\n",
        "mse = metrics.mean_squared_error(y_test, predictions_knn)\n",
        "print('MSE: {}\\n'.format(mse))\n",
        "\n",
        "print('RMSE: {}\\n'.format(np.sqrt(mse)))\n",
        "\n",
        "mae = metrics.mean_absolute_error(y_test, predictions_knn)\n",
        "print('MAE: {}\\n'.format(mae))"
      ],
      "execution_count": 42,
      "outputs": [
        {
          "output_type": "stream",
          "text": [
            "R2: 0.8569015640246431\n",
            "\n",
            "MSE: 39117.69416384698\n",
            "\n",
            "RMSE: 197.78193588861188\n",
            "\n",
            "MAE: 149.80392672380046\n",
            "\n"
          ],
          "name": "stdout"
        }
      ]
    },
    {
      "cell_type": "code",
      "metadata": {
        "id": "a_LTZa0KpAby",
        "colab": {
          "base_uri": "https://localhost:8080/",
          "height": 281
        },
        "outputId": "19a8c710-f12d-48ed-b26e-255477766dbe"
      },
      "source": [
        "x_ax = range(len(y_test))\n",
        "plot.plot(x_ax, y_test, label=\"actual\")\n",
        "plot.plot(x_ax, predictions_knn, label=\"predicted\")\n",
        "\n",
        "plot.title(\"Mean travel times actual and predicted data\")\n",
        "\n",
        "plot.legend()\n",
        "plot.show()"
      ],
      "execution_count": 44,
      "outputs": [
        {
          "output_type": "display_data",
          "data": {
            "image/png": "[encoded data removed]",
            "text/plain": [
              "<Figure size 432x288 with 1 Axes>"
            ]
          },
          "metadata": {
            "tags": [],
            "needs_background": "light"
          }
        }
      ]
    },
    {
      "cell_type": "code",
      "metadata": {
        "id": "ie9GhebapDqS",
        "colab": {
          "base_uri": "https://localhost:8080/",
          "height": 279
        },
        "outputId": "ef1b8ebc-5bc2-4984-c6cd-d204896c3c80"
      },
      "source": [
        "fig, ax = plot.subplots()\n",
        "ax.scatter(y_test, predictions_knn)\n",
        "ax.plot([y_test.min(), y_test.max()], [y_test.min(), y_test.max()], 'k--', lw=4)\n",
        "ax.set_xlabel('Measured Time')\n",
        "ax.set_ylabel('Predicted Time')\n",
        "plot.show()"
      ],
      "execution_count": 45,
      "outputs": [
        {
          "output_type": "display_data",
          "data": {
            "image/png": "[encoded data removed]",
            "text/plain": [
              "<Figure size 432x288 with 1 Axes>"
            ]
          },
          "metadata": {
            "tags": [],
            "needs_background": "light"
          }
        }
      ]
    },
    {
      "cell_type": "markdown",
      "metadata": {
        "id": "bEkUtfospIVU"
      },
      "source": [
        "### 4.4.1 Live Testing"
      ]
    },
    {
      "cell_type": "code",
      "metadata": {
        "id": "CLoqbWHjpPUk"
      },
      "source": [
        "features = ['Source lat', 'Source long', 'Dest lat', 'Dest long', 'dow', 'Geodesic Distance']\n",
        "outcome = ['mean_travel_time']\n",
        "\n",
        "def get_distance(lat1, long1, lat2, long2):\n",
        "    src_point = (lat1, long1)\n",
        "    dest_point = (lat2, long2)\n",
        "    return geopy.distance.geodesic(src_point, dest_point).kilometers\n",
        "\n",
        "def prepare_df(lat1, long1, lat2, long2, hod):\n",
        "    distance = get_distance(lat1, long1, lat2, long2)\n",
        "    return pd.DataFrame(columns = ['Source lat', 'Source long', 'Dest lat', 'Dest long', 'dow', 'Geodesic Distance'],\n",
        "                 data = [[lat1, long1, lat2, long2, dow, distance]])\n",
        "    \n",
        "def predict(df):\n",
        "    return my_model_knn.predict(df[features])"
      ],
      "execution_count": 46,
      "outputs": []
    },
    {
      "cell_type": "code",
      "metadata": {
        "id": "RdqImATEpjR4",
        "colab": {
          "base_uri": "https://localhost:8080/"
        },
        "outputId": "2c35c6bc-af11-46ee-cff5-b03e10998660"
      },
      "source": [
        "lat1 = 13.002385\n",
        "long1 = 77.568491\n",
        "lat2 = 13.061071\n",
        "long2 = 77.597371\n",
        "dow = 10\n",
        "\n",
        "df = prepare_df(lat1, long1, lat2, long2, dow)\n",
        "predict(df)"
      ],
      "execution_count": 47,
      "outputs": [
        {
          "output_type": "execute_result",
          "data": {
            "text/plain": [
              "array([[590.2408822]])"
            ]
          },
          "metadata": {
            "tags": []
          },
          "execution_count": 47
        }
      ]
    },
    {
      "cell_type": "markdown",
      "metadata": {
        "id": "7sXwAL75mes2"
      },
      "source": [
        "# 5. Conclusion\n",
        "\n",
        "Based on all the models that we have made, it turns out that the Random Forest model has the highest R2 score of 0.9962675173602626 and the lowest error metrics score (MSE, RMSE, MAE). \n",
        "Thus, we conclude that our model with Random Forest Algorithm is the best model for ETA prediction."
      ]
    },
    {
      "cell_type": "code",
      "metadata": {
        "id": "AmDQ_inb9tjk"
      },
      "source": [
        ""
      ],
      "execution_count": null,
      "outputs": []
    }
  ]
}